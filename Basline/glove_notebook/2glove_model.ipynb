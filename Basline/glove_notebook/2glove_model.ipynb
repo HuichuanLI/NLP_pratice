{
 "cells": [
  {
   "cell_type": "code",
   "execution_count": 1,
   "metadata": {},
   "outputs": [],
   "source": [
    "import torch\n",
    "import torch.nn as nn"
   ]
  },
  {
   "cell_type": "code",
   "execution_count": 2,
   "metadata": {},
   "outputs": [],
   "source": [
    "class glove_model(nn.Module):\n",
    "    def __init__(self,vocab_size,embed_size,x_max,alpha):\n",
    "        super(glove_model, self).__init__()\n",
    "        self.vocab_size = vocab_size\n",
    "        self.embed_size = embed_size\n",
    "        self.x_max = x_max\n",
    "        self.alpha = alpha\n",
    "        self.w_embed = nn.Embedding(self.vocab_size,self.embed_size).type(torch.float64) # 中心词向量\n",
    "\n",
    "        self.w_bias = nn.Embedding(self.vocab_size,1).type(torch.float64) # 中心词bias\n",
    "\n",
    "        self.v_embed = nn.Embedding(self.vocab_size, self.embed_size).type(torch.float64) # 周围词向量\n",
    "\n",
    "        self.v_bias = nn.Embedding(self.vocab_size, 1).type(torch.float64) # 周围词bias\n",
    "    def forward(self, w_data,v_data,labels):\n",
    "        w_data_embed = self.w_embed(w_data) # bs*embed_size\n",
    "        w_data_bias = self.w_bias(w_data) # bs*1\n",
    "        v_data_embed = self.v_embed(v_data)\n",
    "        v_data_bias = self.v_bias(v_data)\n",
    "        weights = torch.pow(labels/self.x_max,self.alpha) # 权重生成\n",
    "        weights[weights>1]=1 \n",
    "        loss = torch.mean(weights*torch.pow(torch.sum(w_data_embed*v_data_embed,1)+w_data_bias+v_data_bias-\n",
    "                                 torch.log(labels),2)) # 计算loss\n",
    "        return loss\n",
    "    def save_embedding(self, word2id, file_name):\n",
    "        embedding_1 = self.w_embed.weight.data.cpu().numpy()\n",
    "        embedding_2 = self.v_embed.weight.data.cpu().numpy()\n",
    "        embedding = (embedding_1+embedding_2)/2\n",
    "        fout = open(file_name, 'w')\n",
    "        fout.write('%d %d\\n' % (len(word2id), self.embed_size))\n",
    "        for w, wid in word2id.items():\n",
    "            e = embedding[wid]\n",
    "            e = ' '.join(map(lambda x: str(x), e))\n",
    "            fout.write('%s %s\\n' % (w, e))"
   ]
  },
  {
   "cell_type": "code",
   "execution_count": 3,
   "metadata": {},
   "outputs": [
    {
     "data": {
      "text/plain": [
       "tensor(2.8375, dtype=torch.float64, grad_fn=<MeanBackward0>)"
      ]
     },
     "execution_count": 3,
     "metadata": {},
     "output_type": "execute_result"
    }
   ],
   "source": [
    "model = glove_model(100, 100,100,0.75)\n",
    "word2id = dict()\n",
    "for i in range(100):\n",
    "    word2id[str(i)] = i\n",
    "w_data = torch.Tensor([0, 0, 1, 1, 1]).long()\n",
    "v_data =  torch.Tensor([1, 2, 0, 2, 3]).long()\n",
    "labels = torch.Tensor([1,2,3,4,5])\n",
    "model.forward(w_data, v_data, labels)"
   ]
  },
  {
   "cell_type": "code",
   "execution_count": 4,
   "metadata": {},
   "outputs": [],
   "source": [
    "embedding_1 = model.w_embed.weight.data.cpu().numpy()"
   ]
  },
  {
   "cell_type": "code",
   "execution_count": 5,
   "metadata": {},
   "outputs": [
    {
     "data": {
      "text/plain": [
       "(100, 100)"
      ]
     },
     "execution_count": 5,
     "metadata": {},
     "output_type": "execute_result"
    }
   ],
   "source": [
    "embedding_1.shape"
   ]
  },
  {
   "cell_type": "code",
   "execution_count": null,
   "metadata": {},
   "outputs": [],
   "source": []
  }
 ],
 "metadata": {
  "kernelspec": {
   "display_name": "Python 3 (ipykernel)",
   "language": "python",
   "name": "python3"
  },
  "language_info": {
   "codemirror_mode": {
    "name": "ipython",
    "version": 3
   },
   "file_extension": ".py",
   "mimetype": "text/x-python",
   "name": "python",
   "nbconvert_exporter": "python",
   "pygments_lexer": "ipython3",
   "version": "3.10.9"
  }
 },
 "nbformat": 4,
 "nbformat_minor": 4
}
