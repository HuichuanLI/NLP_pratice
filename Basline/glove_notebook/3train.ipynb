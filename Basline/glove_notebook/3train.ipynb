{
 "cells": [
  {
   "cell_type": "code",
   "execution_count": 1,
   "metadata": {},
   "outputs": [],
   "source": [
    "from data import Wiki_Dataset\n",
    "from model import glove_model\n",
    "import torch\n",
    "import numpy as np\n",
    "import torch.optim as optim\n",
    "from tqdm import tqdm"
   ]
  },
  {
   "cell_type": "code",
   "execution_count": 2,
   "metadata": {},
   "outputs": [],
   "source": [
    "# 导入模型参数\n",
    "import config as argumentparser\n",
    "config = argumentparser.ArgumentParser()"
   ]
  },
  {
   "cell_type": "code",
   "execution_count": 3,
   "metadata": {},
   "outputs": [],
   "source": [
    "# 设置GPU\n",
    "if config.cuda and torch.cuda.is_available():\n",
    "    torch.cuda.set_device(config.gpu)"
   ]
  },
  {
   "cell_type": "code",
   "execution_count": 4,
   "metadata": {},
   "outputs": [
    {
     "data": {
      "text/plain": [
       "False"
      ]
     },
     "execution_count": 4,
     "metadata": {},
     "output_type": "execute_result"
    }
   ],
   "source": [
    "torch.cuda.is_available()"
   ]
  },
  {
   "cell_type": "code",
   "execution_count": 5,
   "metadata": {},
   "outputs": [],
   "source": [
    "# 导入训练集\n",
    "wiki_dataset = Wiki_Dataset(min_count=config.min_count,window_size=config.window_size)\n",
    "training_iter = torch.utils.data.DataLoader(dataset=wiki_dataset,\n",
    "                                            batch_size=config.batch_size,\n",
    "                                            shuffle=True,\n",
    "                                            num_workers=2)"
   ]
  },
  {
   "cell_type": "code",
   "execution_count": 6,
   "metadata": {},
   "outputs": [],
   "source": [
    "model = glove_model(len(wiki_dataset.word2id),config.embed_size,config.x_max,config.alpha)"
   ]
  },
  {
   "cell_type": "code",
   "execution_count": 7,
   "metadata": {},
   "outputs": [],
   "source": [
    "# 将模型送进gpu\n",
    "if config.cuda and torch.cuda.is_available():\n",
    "    torch.cuda.set_device(config.gpu)\n",
    "    model.cuda()"
   ]
  },
  {
   "cell_type": "code",
   "execution_count": 8,
   "metadata": {},
   "outputs": [],
   "source": [
    "# 定义优化器\n",
    "optimizer = optim.Adam(model.parameters(), lr=config.learning_rate)"
   ]
  },
  {
   "cell_type": "code",
   "execution_count": 9,
   "metadata": {},
   "outputs": [
    {
     "name": "stderr",
     "output_type": "stream",
     "text": [
      "100%|██████████| 287217/287217 [1:48:43<00:00, 44.03it/s, loss=1.28]  \n"
     ]
    },
    {
     "ename": "TypeError",
     "evalue": "glove_model.save_embedding() missing 2 required positional arguments: 'word2id' and 'file_name'",
     "output_type": "error",
     "traceback": [
      "\u001b[0;31m---------------------------------------------------------------------------\u001b[0m",
      "\u001b[0;31mTypeError\u001b[0m                                 Traceback (most recent call last)",
      "Cell \u001b[0;32mIn[9], line 21\u001b[0m\n\u001b[1;32m     19\u001b[0m         loss_now\u001b[38;5;241m.\u001b[39mbackward()\n\u001b[1;32m     20\u001b[0m         optimizer\u001b[38;5;241m.\u001b[39mstep()\n\u001b[0;32m---> 21\u001b[0m \u001b[43mmodel\u001b[49m\u001b[38;5;241;43m.\u001b[39;49m\u001b[43msave_embedding\u001b[49m\u001b[43m(\u001b[49m\u001b[43m)\u001b[49m\n",
      "\u001b[0;31mTypeError\u001b[0m: glove_model.save_embedding() missing 2 required positional arguments: 'word2id' and 'file_name'"
     ]
    }
   ],
   "source": [
    "loss= -1\n",
    "for epoch in range(config.epoch):\n",
    "    process_bar = tqdm(training_iter) # tqdm训练\n",
    "    for data, label in process_bar:\n",
    "        w_data = torch.Tensor(np.array([sample[0] for sample in data])).long()\n",
    "        v_data = torch.Tensor(np.array([sample[1] for sample in data])).long()\n",
    "        if config.cuda and torch.cuda.is_available():\n",
    "            w_data = w_data.cuda()\n",
    "            v_data = v_data.cuda()\n",
    "            label = label.cuda()\n",
    "        loss_now =model(w_data,v_data,label)\n",
    "        if loss==-1:\n",
    "            loss = loss_now.data.item()\n",
    "        else:\n",
    "            loss = 0.95*loss+0.05*loss_now.data.item() # 平滑loss\n",
    "        process_bar.set_postfix(loss=loss) # 输出loss\n",
    "        process_bar.update()\n",
    "        optimizer.zero_grad() # 梯度更新\n",
    "        loss_now.backward()\n",
    "        optimizer.step()\n",
    "model.save_embedding()"
   ]
  },
  {
   "cell_type": "code",
   "execution_count": null,
   "metadata": {},
   "outputs": [],
   "source": []
  }
 ],
 "metadata": {
  "kernelspec": {
   "display_name": "Python 3 (ipykernel)",
   "language": "python",
   "name": "python3"
  },
  "language_info": {
   "codemirror_mode": {
    "name": "ipython",
    "version": 3
   },
   "file_extension": ".py",
   "mimetype": "text/x-python",
   "name": "python",
   "nbconvert_exporter": "python",
   "pygments_lexer": "ipython3",
   "version": "3.10.9"
  }
 },
 "nbformat": 4,
 "nbformat_minor": 4
}
