{
 "cells": [
  {
   "cell_type": "code",
   "execution_count": 1,
   "metadata": {},
   "outputs": [],
   "source": [
    "from data import Wiki_Dataset\n",
    "from model import glove_model\n",
    "import torch\n",
    "import numpy as np\n",
    "import torch.optim as optim\n",
    "from tqdm import tqdm"
   ]
  },
  {
   "cell_type": "code",
   "execution_count": 2,
   "metadata": {},
   "outputs": [],
   "source": [
    "# 导入模型参数\n",
    "import config as argumentparser\n",
    "config = argumentparser.ArgumentParser()"
   ]
  },
  {
   "cell_type": "code",
   "execution_count": 3,
   "metadata": {},
   "outputs": [],
   "source": [
    "# 设置GPU\n",
    "if config.cuda and torch.cuda.is_available():\n",
    "    torch.cuda.set_device(config.gpu)"
   ]
  },
  {
   "cell_type": "code",
   "execution_count": 4,
   "metadata": {},
   "outputs": [
    {
     "data": {
      "text/plain": [
       "False"
      ]
     },
     "execution_count": 4,
     "metadata": {},
     "output_type": "execute_result"
    }
   ],
   "source": [
    "torch.cuda.is_available()"
   ]
  },
  {
   "cell_type": "code",
   "execution_count": 5,
   "metadata": {},
   "outputs": [],
   "source": [
    "# 导入训练集\n",
    "wiki_dataset = Wiki_Dataset(min_count=config.min_count,window_size=config.window_size)\n",
    "training_iter = torch.utils.data.DataLoader(dataset=wiki_dataset,\n",
    "                                            batch_size=config.batch_size,\n",
    "                                            shuffle=True,\n",
    "                                            num_workers=2)"
   ]
  },
  {
   "cell_type": "code",
   "execution_count": 6,
   "metadata": {},
   "outputs": [],
   "source": [
    "model = glove_model(len(wiki_dataset.word2id),config.embed_size,config.x_max,config.alpha)"
   ]
  },
  {
   "cell_type": "code",
   "execution_count": 7,
   "metadata": {},
   "outputs": [],
   "source": [
    "# 将模型送进gpu\n",
    "if config.cuda and torch.cuda.is_available():\n",
    "    torch.cuda.set_device(config.gpu)\n",
    "    model.cuda()"
   ]
  },
  {
   "cell_type": "code",
   "execution_count": 8,
   "metadata": {},
   "outputs": [],
   "source": [
    "# 定义优化器\n",
    "optimizer = optim.Adam(model.parameters(), lr=config.learning_rate)"
   ]
  },
  {
   "cell_type": "code",
   "execution_count": null,
   "metadata": {},
   "outputs": [
    {
     "name": "stderr",
     "output_type": "stream",
     "text": [
      " 36%|███▋      | 104569/287217 [38:16<1:06:37, 45.69it/s, loss=5.71]"
     ]
    }
   ],
   "source": [
    "loss= -1\n",
    "for epoch in range(config.epoch):\n",
    "    process_bar = tqdm(training_iter) # tqdm训练\n",
    "    for data, label in process_bar:\n",
    "        w_data = torch.Tensor(np.array([sample[0] for sample in data])).long()\n",
    "        v_data = torch.Tensor(np.array([sample[1] for sample in data])).long()\n",
    "        if config.cuda and torch.cuda.is_available():\n",
    "            w_data = w_data.cuda()\n",
    "            v_data = v_data.cuda()\n",
    "            label = label.cuda()\n",
    "        loss_now =model(w_data,v_data,label)\n",
    "        if loss==-1:\n",
    "            loss = loss_now.data.item()\n",
    "        else:\n",
    "            loss = 0.95*loss+0.05*loss_now.data.item() # 平滑loss\n",
    "        process_bar.set_postfix(loss=loss) # 输出loss\n",
    "        process_bar.update()\n",
    "        optimizer.zero_grad() # 梯度更新\n",
    "        loss_now.backward()\n",
    "        optimizer.step()\n",
    "model.save_embedding()"
   ]
  },
  {
   "cell_type": "code",
   "execution_count": null,
   "metadata": {},
   "outputs": [],
   "source": []
  }
 ],
 "metadata": {
  "kernelspec": {
   "display_name": "Python 3 (ipykernel)",
   "language": "python",
   "name": "python3"
  },
  "language_info": {
   "codemirror_mode": {
    "name": "ipython",
    "version": 3
   },
   "file_extension": ".py",
   "mimetype": "text/x-python",
   "name": "python",
   "nbconvert_exporter": "python",
   "pygments_lexer": "ipython3",
   "version": "3.10.9"
  }
 },
 "nbformat": 4,
 "nbformat_minor": 4
}
