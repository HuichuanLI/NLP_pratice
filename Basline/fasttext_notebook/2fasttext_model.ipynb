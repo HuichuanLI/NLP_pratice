{
 "cells": [
  {
   "cell_type": "code",
   "execution_count": 1,
   "metadata": {},
   "outputs": [],
   "source": [
    "import torch\n",
    "import torch.nn as nn\n",
    "import numpy as np"
   ]
  },
  {
   "cell_type": "code",
   "execution_count": 11,
   "metadata": {},
   "outputs": [],
   "source": [
    "class Fasttext(nn.Module):\n",
    "    def __init__(self,vocab_size,embedding_size,max_length,label_num):\n",
    "        super(Fasttext,self).__init__()\n",
    "        self.embedding =nn.Embedding(vocab_size,embedding_size)  # 嵌入层\n",
    "        self.avg_pool = nn.AvgPool1d(kernel_size=max_length,stride=1) # 平均层\n",
    "        self.fc = nn.Linear(embedding_size, label_num) # 全连接层\n",
    "    def forward(self, x):\n",
    "        x = x.long()\n",
    "        out = self.embedding(x) # batch_size*length*embedding_size\n",
    "        out = out.transpose(1, 2).contiguous() # batch_size*embedding_size*length\n",
    "        out = self.avg_pool(out).squeeze() # batch_size*embedding_size\n",
    "        out = self.fc(out) # batch_size*label_num\n",
    "        return out"
   ]
  },
  {
   "cell_type": "code",
   "execution_count": 12,
   "metadata": {},
   "outputs": [],
   "source": [
    "fasttext = Fasttext(vocab_size=1000,embedding_size=10,max_length=100,label_num=4)\n",
    "test = torch.zeros([64,100]).long()\n",
    "out = fasttext(test)"
   ]
  },
  {
   "cell_type": "code",
   "execution_count": 13,
   "metadata": {},
   "outputs": [
    {
     "data": {
      "text/plain": [
       "torch.Size([64, 4])"
      ]
     },
     "execution_count": 13,
     "metadata": {},
     "output_type": "execute_result"
    }
   ],
   "source": [
    "out.shape"
   ]
  },
  {
   "cell_type": "code",
   "execution_count": 14,
   "metadata": {},
   "outputs": [],
   "source": [
    "from torchsummary import summary\n",
    "# lenet-5 "
   ]
  },
  {
   "cell_type": "code",
   "execution_count": 15,
   "metadata": {},
   "outputs": [
    {
     "name": "stdout",
     "output_type": "stream",
     "text": [
      "----------------------------------------------------------------\n",
      "        Layer (type)               Output Shape         Param #\n",
      "================================================================\n",
      "         Embedding-1              [-1, 100, 10]          10,000\n",
      "         AvgPool1d-2                [-1, 10, 1]               0\n",
      "            Linear-3                    [-1, 4]              44\n",
      "================================================================\n",
      "Total params: 10,044\n",
      "Trainable params: 10,044\n",
      "Non-trainable params: 0\n",
      "----------------------------------------------------------------\n",
      "Input size (MB): 0.00\n",
      "Forward/backward pass size (MB): 0.01\n",
      "Params size (MB): 0.04\n",
      "Estimated Total Size (MB): 0.05\n",
      "----------------------------------------------------------------\n"
     ]
    }
   ],
   "source": [
    "summary(fasttext, input_size=(100,))"
   ]
  },
  {
   "cell_type": "code",
   "execution_count": null,
   "metadata": {},
   "outputs": [],
   "source": []
  }
 ],
 "metadata": {
  "kernelspec": {
   "display_name": "Python 3",
   "language": "python",
   "name": "python3"
  },
  "language_info": {
   "codemirror_mode": {
    "name": "ipython",
    "version": 3
   },
   "file_extension": ".py",
   "mimetype": "text/x-python",
   "name": "python",
   "nbconvert_exporter": "python",
   "pygments_lexer": "ipython3",
   "version": "3.7.3"
  }
 },
 "nbformat": 4,
 "nbformat_minor": 4
}
