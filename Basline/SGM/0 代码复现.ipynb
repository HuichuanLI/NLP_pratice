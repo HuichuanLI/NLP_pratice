{
 "cells": [
  {
   "cell_type": "markdown",
   "metadata": {},
   "source": [
    "# SGM: Sequence Generation Model for Multi-Label Classification\n",
    "### 授课老师：Pvop"
   ]
  },
  {
   "cell_type": "markdown",
   "metadata": {},
   "source": [
    "# 1 前言\n",
    "## 1.1课程回顾\n",
    "<img src=\"./imgs/SGM模型.png\"  width=\"700\" height=\"700\" align=\"bottom\" />\n",
    "<img src=\"./imgs/sgm.png\"  width=\"700\" height=\"700\" align=\"bottom\" />"
   ]
  },
  {
   "cell_type": "markdown",
   "metadata": {},
   "source": [
    "## 1.2 课程内容展示\n",
    "<img src=\"./imgs/sgm代码结构.png\"  width=\"300\" height=\"300\" align=\"bottom\" />"
   ]
  },
  {
   "cell_type": "markdown",
   "metadata": {},
   "source": [
    "# 2 准备工作\n",
    "## 2.1项目环境配置\n",
    "\n",
    "* Python3.5\n",
    "* jupyter notebook\n",
    "* torch           1.4.0\n",
    "* numpy           1.16.2\n",
    "\n",
    "代码运行环境建议使用Pycharm  \n",
    "\n",
    "Pycharm：强大的Python IDE，拥有调试、语法高亮、远程调试、代码跳转等功能"
   ]
  },
  {
   "cell_type": "markdown",
   "metadata": {},
   "source": [
    "## 2.2 数据集下载\n",
    "  \n",
    "数据集: https://pan.baidu.com/s/1jOd38rsdI_XM6E2pGal80Q \n",
    "提取码：9eoe"
   ]
  },
  {
   "cell_type": "markdown",
   "metadata": {},
   "source": [
    "# 3 项目代码结构（pycharm中演示）"
   ]
  },
  {
   "cell_type": "markdown",
   "metadata": {},
   "source": [
    "# 4 代码梳理及细节回顾  \n",
    "<img src=\"./imgs/SGM模型总结.png\"  width=\"700\" height=\"700\" align=\"bottom\" />"
   ]
  },
  {
   "cell_type": "markdown",
   "metadata": {},
   "source": [
    "# 5 作业\n",
    "  \n",
    "`【思考题】`总结seq2seq模型以及seq2seq模型的应用场景。\n",
    "\n",
    "`【代码实践】`跑通代码，调整参数看看对效果的影响。\n",
    "\n",
    "`【总结】`总结SGM模型以及SGM模型的代码实现。\n",
    "\n",
    "\n",
    "---"
   ]
  },
  {
   "cell_type": "code",
   "execution_count": null,
   "metadata": {},
   "outputs": [],
   "source": []
  }
 ],
 "metadata": {
  "kernelspec": {
   "display_name": "Python 3 (ipykernel)",
   "language": "python",
   "name": "python3"
  },
  "language_info": {
   "codemirror_mode": {
    "name": "ipython",
    "version": 3
   },
   "file_extension": ".py",
   "mimetype": "text/x-python",
   "name": "python",
   "nbconvert_exporter": "python",
   "pygments_lexer": "ipython3",
   "version": "3.10.9"
  }
 },
 "nbformat": 4,
 "nbformat_minor": 2
}
