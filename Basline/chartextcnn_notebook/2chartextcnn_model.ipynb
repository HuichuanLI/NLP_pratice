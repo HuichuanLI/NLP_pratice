{
 "cells": [
  {
   "cell_type": "code",
   "execution_count": 2,
   "metadata": {},
   "outputs": [],
   "source": [
    "import torch\n",
    "import torch.nn as nn\n",
    "import numpy as np"
   ]
  },
  {
   "cell_type": "code",
   "execution_count": null,
   "metadata": {},
   "outputs": [],
   "source": [
    "# batch normalization1\n",
    "# weights, \n",
    "# 训练 测试\n",
    "# 0.95*prev_mean+0.05*now_mean\n",
    "# 0.95*prev_std+0.05*now_std"
   ]
  },
  {
   "cell_type": "markdown",
   "metadata": {},
   "source": [
    "## 模型参数\n",
    "<img src=\"./imgs/模型参数.png\"  width=\"700\" height=\"700\" align=\"bottom\" />"
   ]
  },
  {
   "cell_type": "markdown",
   "metadata": {},
   "source": [
    "## 模型参数\n",
    "<img src=\"./imgs/bn.png\"  width=\"700\" height=\"700\" align=\"bottom\" />"
   ]
  },
  {
   "cell_type": "code",
   "execution_count": 3,
   "metadata": {},
   "outputs": [],
   "source": [
    "\n",
    "class CharTextCNN(nn.Module):\n",
    "    def __init__(self,config):\n",
    "        super(CharTextCNN,self).__init__()\n",
    "        in_features = [config.char_num] + config.features[0:-1]\n",
    "        out_features = config.features\n",
    "        kernel_sizes = config.kernel_sizes\n",
    "        self.convs = []\n",
    "        self.conv1 = nn.Sequential(\n",
    "                    nn.Conv1d(in_features[0], out_features[0], kernel_size=kernel_sizes[0], stride=1), # 一维卷积\n",
    "                    nn.BatchNorm1d(out_features[0]), # bn层\n",
    "                    nn.ReLU(), # relu激活函数层\n",
    "                    nn.MaxPool1d(kernel_size=3, stride=3) #一维池化层\n",
    "                ) # 卷积+bn+relu+pooling模块\n",
    "        self.conv2  = nn.Sequential(\n",
    "            nn.Conv1d(in_features[1], out_features[1], kernel_size=kernel_sizes[1], stride=1),\n",
    "            nn.BatchNorm1d(out_features[1]),\n",
    "            nn.ReLU(),\n",
    "            nn.MaxPool1d(kernel_size=3, stride=3)\n",
    "        )\n",
    "        self.conv3 = nn.Sequential(\n",
    "            nn.Conv1d(in_features[2], out_features[2], kernel_size=kernel_sizes[2], stride=1),\n",
    "            nn.BatchNorm1d(out_features[2]),\n",
    "            nn.ReLU()\n",
    "        )\n",
    "        self.conv4 = nn.Sequential(\n",
    "            nn.Conv1d(in_features[3], out_features[3], kernel_size=kernel_sizes[3], stride=1),\n",
    "            nn.BatchNorm1d(out_features[3]),\n",
    "            nn.ReLU()\n",
    "        )\n",
    "        self.conv5 = nn.Sequential(\n",
    "            nn.Conv1d(in_features[4], out_features[4], kernel_size=kernel_sizes[4], stride=1),\n",
    "            nn.BatchNorm1d(out_features[4]),\n",
    "            nn.ReLU()\n",
    "        )\n",
    "        self.conv6 = nn.Sequential(\n",
    "            nn.Conv1d(in_features[5], out_features[5], kernel_size=kernel_sizes[5], stride=1),\n",
    "            nn.BatchNorm1d(out_features[5]),\n",
    "            nn.ReLU(),\n",
    "            nn.MaxPool1d(kernel_size=3, stride=3)\n",
    "        )\n",
    "        self.fc1 = nn.Sequential(\n",
    "            nn.Linear(8704, 1024), # 全连接层 #((l0-96)/27)*256\n",
    "            nn.ReLU(),\n",
    "            nn.Dropout(p=config.dropout) # dropout层\n",
    "        ) # 全连接+relu+dropout模块\n",
    "\n",
    "        self.fc2 = nn.Sequential(\n",
    "            nn.Linear(1024, 1024),\n",
    "            nn.ReLU(),\n",
    "            nn.Dropout(p=config.dropout)\n",
    "        )\n",
    "\n",
    "        self.fc3 = nn.Linear(1024, config.num_classes)\n",
    "    def forward(self, x):\n",
    "        x = self.conv1(x)\n",
    "        x = self.conv2(x)\n",
    "        x = self.conv3(x)\n",
    "        x = self.conv4(x)\n",
    "        x = self.conv5(x)\n",
    "        x = self.conv6(x)\n",
    "\n",
    "        x = x.view(x.size(0), -1) # 变成二维送进全连接层\n",
    "        x = self.fc1(x)\n",
    "        x = self.fc2(x)\n",
    "        x = self.fc3(x)\n",
    "        return x"
   ]
  },
  {
   "cell_type": "code",
   "execution_count": 9,
   "metadata": {},
   "outputs": [],
   "source": [
    "class config:\n",
    "    def __init__(self):\n",
    "        self.char_num = 70  # 字符的个数\n",
    "        self.features = [256,256,256,256,256,256] # 每一层特征个数\n",
    "        self.kernel_sizes = [7,7,3,3,3,3] # 每一层的卷积核尺寸\n",
    "        self.dropout = 0.5 # dropout大小\n",
    "        self.num_classes = 4 # 数据的类别个数"
   ]
  },
  {
   "cell_type": "code",
   "execution_count": 10,
   "metadata": {},
   "outputs": [],
   "source": [
    "config = config()\n",
    "chartextcnn = CharTextCNN(config)\n",
    "test = torch.zeros([64,70,1014])\n",
    "out = chartextcnn(test)"
   ]
  },
  {
   "cell_type": "code",
   "execution_count": 11,
   "metadata": {},
   "outputs": [
    {
     "data": {
      "text/plain": [
       "tensor([[-2.1619e-02, -5.5128e-03,  9.5515e-03, -2.4728e-02],\n",
       "        [-2.2087e-02,  4.1444e-03, -1.8608e-02, -3.8566e-02],\n",
       "        [-3.0050e-02, -5.7097e-03,  3.8520e-03, -2.7695e-02],\n",
       "        [-1.4169e-02, -7.7121e-04,  1.3798e-02, -9.4636e-03],\n",
       "        [-2.7128e-02, -1.2217e-04,  1.4552e-03, -2.8545e-02],\n",
       "        [-2.3704e-02, -1.1517e-03,  2.0622e-02, -2.9940e-02],\n",
       "        [-1.4862e-02,  6.5468e-03, -5.9444e-04, -2.1995e-02],\n",
       "        [-2.0430e-02, -4.5106e-03,  1.0992e-02, -1.6560e-02],\n",
       "        [-1.7417e-02, -7.5913e-04,  1.1693e-02, -2.4846e-02],\n",
       "        [-2.2638e-02, -6.7310e-04, -1.6945e-03, -2.5059e-02],\n",
       "        [-2.4903e-02, -5.5402e-03,  1.5728e-02, -1.6767e-02],\n",
       "        [-2.4940e-02, -1.5581e-02, -6.9760e-03, -4.2298e-02],\n",
       "        [-8.9321e-03, -5.8988e-03, -6.4683e-03, -2.8186e-02],\n",
       "        [-1.3798e-02,  1.7825e-02,  4.1768e-03, -2.2699e-02],\n",
       "        [-1.7305e-02,  2.4157e-03,  2.1468e-02, -2.2298e-02],\n",
       "        [-2.5055e-02,  6.9466e-03,  1.0595e-02, -1.5192e-02],\n",
       "        [-2.6010e-02, -3.7402e-03, -5.8852e-03, -3.0111e-02],\n",
       "        [-4.4632e-02, -1.1534e-02, -2.8278e-03, -3.1003e-02],\n",
       "        [-2.6623e-02,  2.1194e-03,  4.0935e-03, -4.7069e-02],\n",
       "        [-5.9574e-03,  1.2628e-02, -1.9843e-03, -1.6940e-02],\n",
       "        [-2.9682e-02,  1.0205e-02,  6.8822e-03, -1.6872e-02],\n",
       "        [-2.1908e-02,  6.8708e-03,  6.0658e-03, -2.6671e-02],\n",
       "        [-2.0417e-02,  8.8636e-03,  8.7950e-03, -2.7019e-02],\n",
       "        [-1.9595e-02,  4.2037e-03,  1.5123e-02, -3.1605e-02],\n",
       "        [-2.3441e-02,  9.1571e-03,  7.0665e-03, -2.7991e-02],\n",
       "        [-1.1327e-02, -1.3253e-02,  1.5813e-02, -2.8529e-02],\n",
       "        [-1.5645e-02, -6.1633e-05,  7.6654e-03, -2.8172e-02],\n",
       "        [-1.6520e-02,  9.4679e-03, -9.3002e-03, -3.0823e-02],\n",
       "        [-2.0825e-02,  5.3970e-03,  1.5919e-03, -4.1128e-02],\n",
       "        [-2.3473e-02, -3.4162e-03,  1.4679e-02, -2.4680e-02],\n",
       "        [-2.6651e-02,  6.3762e-03,  9.8948e-03, -3.1433e-02],\n",
       "        [-1.1901e-02,  4.3386e-03,  9.6423e-04, -2.9905e-02],\n",
       "        [-2.2527e-02, -6.1391e-03,  1.2419e-02, -3.3391e-02],\n",
       "        [-2.3580e-02, -7.8830e-03, -1.2497e-02, -3.7262e-02],\n",
       "        [-4.0120e-02, -5.2146e-03, -4.5649e-03, -1.9266e-02],\n",
       "        [-8.1131e-03, -9.4238e-03,  6.7042e-03, -3.3201e-02],\n",
       "        [-1.6159e-02, -4.0491e-03, -1.4571e-03, -2.9395e-02],\n",
       "        [-1.5340e-02,  7.3378e-03,  1.2975e-02, -3.7060e-02],\n",
       "        [-2.3343e-02, -6.4233e-03,  4.7379e-03, -2.1306e-02],\n",
       "        [-1.0867e-02, -1.4431e-02,  2.4223e-02, -2.5156e-02],\n",
       "        [-1.6813e-02,  3.0533e-03, -5.7843e-03, -2.5045e-02],\n",
       "        [-3.9288e-02, -8.9014e-03,  4.8702e-03, -2.8676e-02],\n",
       "        [-9.9731e-03, -2.3290e-02,  7.8462e-03, -3.3369e-02],\n",
       "        [-8.6072e-03, -1.1953e-03,  2.3441e-03, -4.3448e-02],\n",
       "        [-1.2866e-02, -6.4087e-03, -1.4530e-03, -3.4380e-02],\n",
       "        [-3.0369e-02,  5.9491e-03, -6.9512e-03, -3.2528e-02],\n",
       "        [-3.2198e-02,  6.7516e-03,  1.7458e-02, -3.4827e-02],\n",
       "        [-1.5837e-02, -1.3642e-02,  9.2347e-03, -1.9703e-02],\n",
       "        [-1.4168e-02,  1.3069e-03,  3.6631e-03, -3.4003e-02],\n",
       "        [-1.1622e-02,  1.0710e-02,  5.9799e-03, -2.7906e-02],\n",
       "        [-1.7770e-02, -9.4634e-03, -3.2034e-04, -2.7363e-02],\n",
       "        [-2.5852e-02,  9.8481e-03,  1.1367e-02, -4.1279e-02],\n",
       "        [-2.4079e-02,  1.1195e-02,  8.0577e-03, -2.5702e-02],\n",
       "        [-2.1674e-02, -7.2158e-04,  1.2490e-02, -2.5000e-02],\n",
       "        [-3.4915e-02, -2.1015e-03,  7.0120e-03, -2.7603e-02],\n",
       "        [-3.4559e-02, -1.0832e-02,  1.1226e-02, -3.5250e-02],\n",
       "        [-1.9174e-02, -1.8759e-03,  9.1470e-03, -4.5277e-02],\n",
       "        [-2.2956e-02, -6.8872e-04,  1.6405e-02, -2.5566e-02],\n",
       "        [-1.2095e-02,  5.1686e-03,  7.0138e-03, -2.4276e-02],\n",
       "        [-3.0642e-02, -5.0064e-03, -3.5698e-03, -2.9091e-02],\n",
       "        [-2.7995e-02, -7.8304e-03, -1.7234e-03, -3.0933e-02],\n",
       "        [-3.1407e-02,  1.0197e-02,  2.4540e-03, -3.1792e-02],\n",
       "        [-4.9064e-03, -8.7051e-04, -4.0979e-03, -2.3031e-02],\n",
       "        [-1.6944e-02,  1.3853e-02, -3.7701e-03, -3.2718e-02]],\n",
       "       grad_fn=<AddmmBackward>)"
      ]
     },
     "execution_count": 11,
     "metadata": {},
     "output_type": "execute_result"
    }
   ],
   "source": [
    "out"
   ]
  },
  {
   "cell_type": "code",
   "execution_count": 12,
   "metadata": {},
   "outputs": [
    {
     "data": {
      "text/plain": [
       "torch.Size([64, 4])"
      ]
     },
     "execution_count": 12,
     "metadata": {},
     "output_type": "execute_result"
    }
   ],
   "source": [
    "out.shape"
   ]
  },
  {
   "cell_type": "code",
   "execution_count": 13,
   "metadata": {},
   "outputs": [],
   "source": [
    "from torchsummary import summary"
   ]
  },
  {
   "cell_type": "code",
   "execution_count": 16,
   "metadata": {},
   "outputs": [
    {
     "data": {
      "text/plain": [
       "125696"
      ]
     },
     "execution_count": 16,
     "metadata": {},
     "output_type": "execute_result"
    }
   ],
   "source": [
    "256*(70*7)+256"
   ]
  },
  {
   "cell_type": "code",
   "execution_count": null,
   "metadata": {},
   "outputs": [],
   "source": [
    "1014-7+1"
   ]
  },
  {
   "cell_type": "code",
   "execution_count": 15,
   "metadata": {},
   "outputs": [
    {
     "name": "stdout",
     "output_type": "stream",
     "text": [
      "----------------------------------------------------------------\n",
      "        Layer (type)               Output Shape         Param #\n",
      "================================================================\n",
      "            Conv1d-1            [-1, 256, 1008]         125,696\n",
      "       BatchNorm1d-2            [-1, 256, 1008]             512\n",
      "              ReLU-3            [-1, 256, 1008]               0\n",
      "         MaxPool1d-4             [-1, 256, 336]               0\n",
      "            Conv1d-5             [-1, 256, 330]         459,008\n",
      "       BatchNorm1d-6             [-1, 256, 330]             512\n",
      "              ReLU-7             [-1, 256, 330]               0\n",
      "         MaxPool1d-8             [-1, 256, 110]               0\n",
      "            Conv1d-9             [-1, 256, 108]         196,864\n",
      "      BatchNorm1d-10             [-1, 256, 108]             512\n",
      "             ReLU-11             [-1, 256, 108]               0\n",
      "           Conv1d-12             [-1, 256, 106]         196,864\n",
      "      BatchNorm1d-13             [-1, 256, 106]             512\n",
      "             ReLU-14             [-1, 256, 106]               0\n",
      "           Conv1d-15             [-1, 256, 104]         196,864\n",
      "      BatchNorm1d-16             [-1, 256, 104]             512\n",
      "             ReLU-17             [-1, 256, 104]               0\n",
      "           Conv1d-18             [-1, 256, 102]         196,864\n",
      "      BatchNorm1d-19             [-1, 256, 102]             512\n",
      "             ReLU-20             [-1, 256, 102]               0\n",
      "        MaxPool1d-21              [-1, 256, 34]               0\n",
      "           Linear-22                 [-1, 1024]       8,913,920\n",
      "             ReLU-23                 [-1, 1024]               0\n",
      "          Dropout-24                 [-1, 1024]               0\n",
      "           Linear-25                 [-1, 1024]       1,049,600\n",
      "             ReLU-26                 [-1, 1024]               0\n",
      "          Dropout-27                 [-1, 1024]               0\n",
      "           Linear-28                    [-1, 4]           4,100\n",
      "================================================================\n",
      "Total params: 11,342,852\n",
      "Trainable params: 11,342,852\n",
      "Non-trainable params: 0\n",
      "----------------------------------------------------------------\n",
      "Input size (MB): 0.27\n",
      "Forward/backward pass size (MB): 11.29\n",
      "Params size (MB): 43.27\n",
      "Estimated Total Size (MB): 54.83\n",
      "----------------------------------------------------------------\n"
     ]
    }
   ],
   "source": [
    "summary(chartextcnn, input_size=(70,1014))\n",
    "# tensorflow: bn: 256*4"
   ]
  },
  {
   "cell_type": "code",
   "execution_count": null,
   "metadata": {},
   "outputs": [],
   "source": []
  }
 ],
 "metadata": {
  "kernelspec": {
   "display_name": "Python 3 (ipykernel)",
   "language": "python",
   "name": "python3"
  },
  "language_info": {
   "codemirror_mode": {
    "name": "ipython",
    "version": 3
   },
   "file_extension": ".py",
   "mimetype": "text/x-python",
   "name": "python",
   "nbconvert_exporter": "python",
   "pygments_lexer": "ipython3",
   "version": "3.10.9"
  }
 },
 "nbformat": 4,
 "nbformat_minor": 4
}
