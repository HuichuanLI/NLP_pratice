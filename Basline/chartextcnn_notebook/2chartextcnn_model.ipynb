{
 "cells": [
  {
   "cell_type": "code",
   "execution_count": 4,
   "metadata": {},
   "outputs": [],
   "source": [
    "import torch\n",
    "import torch.nn as nn\n",
    "import numpy as np"
   ]
  },
  {
   "cell_type": "code",
   "execution_count": null,
   "metadata": {},
   "outputs": [],
   "source": [
    "# batch normalization1\n",
    "# weights, \n",
    "# 训练 测试\n",
    "# 0.95*prev_mean+0.05*now_mean\n",
    "# 0.95*prev_std+0.05*now_std"
   ]
  },
  {
   "cell_type": "markdown",
   "metadata": {},
   "source": [
    "## 模型参数\n",
    "<img src=\"./imgs/模型参数.png\"  width=\"700\" height=\"700\" align=\"bottom\" />"
   ]
  },
  {
   "cell_type": "markdown",
   "metadata": {},
   "source": [
    "## 模型参数\n",
    "<img src=\"./imgs/bn.png\"  width=\"700\" height=\"700\" align=\"bottom\" />"
   ]
  },
  {
   "cell_type": "code",
   "execution_count": 5,
   "metadata": {},
   "outputs": [],
   "source": [
    "\n",
    "class CharTextCNN(nn.Module):\n",
    "    def __init__(self,config):\n",
    "        super(CharTextCNN,self).__init__()\n",
    "        in_features = [config.char_num] + config.features[0:-1]\n",
    "        out_features = config.features\n",
    "        kernel_sizes = config.kernel_sizes\n",
    "        self.convs = []\n",
    "        self.conv1 = nn.Sequential(\n",
    "                    nn.Conv1d(in_features[0], out_features[0], kernel_size=kernel_sizes[0], stride=1), # 一维卷积\n",
    "                    nn.BatchNorm1d(out_features[0]), # bn层\n",
    "                    nn.ReLU(), # relu激活函数层\n",
    "                    nn.MaxPool1d(kernel_size=3, stride=3) #一维池化层\n",
    "                ) # 卷积+bn+relu+pooling模块\n",
    "        self.conv2  = nn.Sequential(\n",
    "            nn.Conv1d(in_features[1], out_features[1], kernel_size=kernel_sizes[1], stride=1),\n",
    "            nn.BatchNorm1d(out_features[1]),\n",
    "            nn.ReLU(),\n",
    "            nn.MaxPool1d(kernel_size=3, stride=3)\n",
    "        )\n",
    "        self.conv3 = nn.Sequential(\n",
    "            nn.Conv1d(in_features[2], out_features[2], kernel_size=kernel_sizes[2], stride=1),\n",
    "            nn.BatchNorm1d(out_features[2]),\n",
    "            nn.ReLU()\n",
    "        )\n",
    "        self.conv4 = nn.Sequential(\n",
    "            nn.Conv1d(in_features[3], out_features[3], kernel_size=kernel_sizes[3], stride=1),\n",
    "            nn.BatchNorm1d(out_features[3]),\n",
    "            nn.ReLU()\n",
    "        )\n",
    "        self.conv5 = nn.Sequential(\n",
    "            nn.Conv1d(in_features[4], out_features[4], kernel_size=kernel_sizes[4], stride=1),\n",
    "            nn.BatchNorm1d(out_features[4]),\n",
    "            nn.ReLU()\n",
    "        )\n",
    "        self.conv6 = nn.Sequential(\n",
    "            nn.Conv1d(in_features[5], out_features[5], kernel_size=kernel_sizes[5], stride=1),\n",
    "            nn.BatchNorm1d(out_features[5]),\n",
    "            nn.ReLU(),\n",
    "            nn.MaxPool1d(kernel_size=3, stride=3)\n",
    "        )\n",
    "        self.fc1 = nn.Sequential(\n",
    "            nn.Linear(8704, 1024), # 全连接层 #((l0-96)/27)*256\n",
    "            nn.ReLU(),\n",
    "            nn.Dropout(p=config.dropout) # dropout层\n",
    "        ) # 全连接+relu+dropout模块\n",
    "\n",
    "        self.fc2 = nn.Sequential(\n",
    "            nn.Linear(1024, 1024),\n",
    "            nn.ReLU(),\n",
    "            nn.Dropout(p=config.dropout)\n",
    "        )\n",
    "\n",
    "        self.fc3 = nn.Linear(1024, config.num_classes)\n",
    "    def forward(self, x):\n",
    "        x = self.conv1(x)\n",
    "        x = self.conv2(x)\n",
    "        x = self.conv3(x)\n",
    "        x = self.conv4(x)\n",
    "        x = self.conv5(x)\n",
    "        x = self.conv6(x)\n",
    "\n",
    "        x = x.view(x.size(0), -1) # 变成二维送进全连接层\n",
    "        x = self.fc1(x)\n",
    "        x = self.fc2(x)\n",
    "        x = self.fc3(x)\n",
    "        return x"
   ]
  },
  {
   "cell_type": "code",
   "execution_count": 6,
   "metadata": {},
   "outputs": [],
   "source": [
    "class config:\n",
    "    def __init__(self):\n",
    "        self.char_num = 70  # 字符的个数\n",
    "        self.features = [256,256,256,256,256,256] # 每一层特征个数\n",
    "        self.kernel_sizes = [7,7,3,3,3,3] # 每一层的卷积核尺寸\n",
    "        self.dropout = 0.5 # dropout大小\n",
    "        self.num_classes = 4 # 数据的类别个数"
   ]
  },
  {
   "cell_type": "code",
   "execution_count": 7,
   "metadata": {},
   "outputs": [],
   "source": [
    "config = config()\n",
    "chartextcnn = CharTextCNN(config)\n",
    "test = torch.zeros([64,70,1014])\n",
    "out = chartextcnn(test)"
   ]
  },
  {
   "cell_type": "code",
   "execution_count": 8,
   "metadata": {},
   "outputs": [
    {
     "data": {
      "text/plain": [
       "tensor([[-1.8490e-02,  2.0743e-03,  5.4430e-03,  8.0137e-03],\n",
       "        [-3.5326e-03,  4.5244e-03,  7.8107e-03,  1.2638e-02],\n",
       "        [-2.1481e-02,  3.4711e-03,  4.8932e-04,  1.1910e-02],\n",
       "        [-9.8155e-03,  3.5697e-03,  1.2627e-02,  2.7168e-03],\n",
       "        [-1.6244e-02,  9.2140e-03,  1.9983e-02,  1.2760e-02],\n",
       "        [-7.2458e-03,  3.3493e-03,  7.4256e-03,  2.3935e-02],\n",
       "        [-1.7640e-02,  2.1929e-02,  6.5460e-03,  1.2064e-02],\n",
       "        [ 3.2253e-03,  1.3725e-02, -7.7329e-03,  8.0142e-03],\n",
       "        [-2.1940e-02,  1.1321e-02,  2.0121e-02,  1.3721e-02],\n",
       "        [-1.5397e-02,  6.7946e-03,  1.1805e-02,  7.9697e-03],\n",
       "        [-1.8395e-02,  1.0806e-02, -5.2189e-03,  1.7539e-02],\n",
       "        [-3.3560e-02,  9.7000e-03,  1.5036e-02,  1.7952e-02],\n",
       "        [-1.9351e-02, -1.9753e-03,  1.3628e-02,  7.2802e-03],\n",
       "        [-1.6738e-02,  4.9010e-03,  2.0444e-03,  7.1872e-03],\n",
       "        [-1.5316e-02, -3.4726e-03,  3.6578e-04,  3.3663e-03],\n",
       "        [-6.4970e-03,  3.1632e-03,  8.0163e-03,  1.7664e-02],\n",
       "        [-1.5991e-02, -1.1236e-02,  6.7650e-03,  1.6170e-02],\n",
       "        [-3.5597e-02, -2.7862e-03,  1.1856e-02,  1.6573e-02],\n",
       "        [-1.4391e-02,  1.1322e-02,  1.5158e-02,  1.3245e-02],\n",
       "        [ 2.1414e-03,  8.7421e-03,  1.2382e-02,  1.1495e-02],\n",
       "        [-1.3129e-02,  7.1894e-03,  2.1767e-03,  1.7752e-02],\n",
       "        [-1.4700e-02,  4.2819e-03,  6.3155e-03,  1.1798e-02],\n",
       "        [-5.5332e-03,  6.2144e-03, -1.0430e-04,  1.1120e-02],\n",
       "        [-1.8440e-02,  1.0144e-02,  5.0110e-03,  1.3965e-02],\n",
       "        [ 2.3670e-03,  1.6862e-02,  1.1348e-03,  5.4195e-03],\n",
       "        [-1.6380e-02,  1.4203e-04,  1.2164e-02,  2.0727e-02],\n",
       "        [-1.1651e-02,  2.2574e-03,  1.4667e-02,  4.4691e-03],\n",
       "        [-2.5233e-03,  3.7673e-04,  6.1568e-03,  3.1689e-02],\n",
       "        [-1.4296e-02, -7.6374e-03,  3.5943e-03,  1.5644e-02],\n",
       "        [-2.2299e-02,  6.4393e-03,  2.0344e-02,  4.0150e-03],\n",
       "        [-4.0075e-03,  1.9108e-02,  1.0518e-02,  2.2261e-02],\n",
       "        [-2.8024e-02,  4.3947e-03,  8.3392e-03,  2.0214e-02],\n",
       "        [-1.8235e-02,  3.2671e-03, -1.0458e-02,  5.9000e-03],\n",
       "        [-1.0217e-02,  7.8263e-03,  1.5804e-02,  1.3024e-02],\n",
       "        [-2.5684e-02,  1.3020e-02, -2.8014e-05,  1.6234e-02],\n",
       "        [-1.6220e-02,  6.0422e-03,  4.3761e-03,  1.1310e-02],\n",
       "        [-1.0719e-02,  2.2898e-02,  4.3338e-03,  2.0002e-03],\n",
       "        [-2.4949e-02,  2.1186e-03,  1.5314e-02,  9.6728e-03],\n",
       "        [-2.6616e-02, -5.3812e-03,  8.7854e-03,  1.1640e-02],\n",
       "        [-7.6188e-03,  1.2692e-02, -7.6053e-03,  1.4956e-02],\n",
       "        [-5.5359e-03,  1.0999e-02, -5.4130e-03,  1.5241e-02],\n",
       "        [-4.9765e-03,  2.2872e-02,  9.0831e-03,  9.6399e-03],\n",
       "        [-1.1195e-02,  1.4850e-02,  1.1349e-02,  1.5337e-02],\n",
       "        [-2.3862e-02,  6.3072e-03,  1.1663e-02,  1.5119e-02],\n",
       "        [-7.9100e-03,  1.3442e-02,  1.0174e-02,  1.8747e-02],\n",
       "        [-4.6813e-03,  1.4636e-02, -9.2744e-03,  1.6553e-02],\n",
       "        [-1.4861e-02,  6.8311e-03,  1.8347e-02,  1.5948e-02],\n",
       "        [-1.0810e-02,  1.2550e-02,  1.3738e-02,  1.6328e-02],\n",
       "        [-6.5476e-03,  7.8641e-04, -1.0087e-02,  2.3906e-02],\n",
       "        [-1.3174e-03, -7.1153e-03, -2.2888e-03, -1.5782e-03],\n",
       "        [-3.0133e-03,  1.3566e-02,  3.0677e-03,  2.2123e-02],\n",
       "        [-4.8176e-03,  1.3229e-02,  1.5715e-02,  1.9685e-02],\n",
       "        [-1.8753e-02, -3.4412e-03,  1.1333e-02, -4.9118e-03],\n",
       "        [ 8.2331e-03,  7.4515e-03,  7.7368e-03,  6.5879e-04],\n",
       "        [-2.1671e-02,  8.1757e-03,  1.2488e-02, -2.9667e-03],\n",
       "        [-1.9637e-02, -3.3902e-03,  2.4871e-03,  1.4268e-02],\n",
       "        [-2.0786e-02,  3.4172e-03,  1.2906e-03,  5.0512e-03],\n",
       "        [-1.6230e-02, -5.6112e-04,  1.6861e-02,  2.5236e-03],\n",
       "        [-1.6415e-02,  9.6244e-03,  1.6179e-02,  9.5566e-03],\n",
       "        [-1.7366e-02,  5.1474e-03,  5.0682e-03,  3.3192e-03],\n",
       "        [ 3.3986e-03,  1.4993e-02,  8.2690e-04,  1.8058e-02],\n",
       "        [-2.1523e-02,  1.1158e-02, -9.1171e-04,  2.2514e-02],\n",
       "        [-1.0251e-02,  1.8807e-02,  7.5802e-03,  2.7682e-03],\n",
       "        [-1.3599e-02,  5.6947e-03,  8.4016e-03,  1.2656e-02]],\n",
       "       grad_fn=<AddmmBackward0>)"
      ]
     },
     "execution_count": 8,
     "metadata": {},
     "output_type": "execute_result"
    }
   ],
   "source": [
    "out"
   ]
  },
  {
   "cell_type": "code",
   "execution_count": 9,
   "metadata": {},
   "outputs": [
    {
     "data": {
      "text/plain": [
       "torch.Size([64, 4])"
      ]
     },
     "execution_count": 9,
     "metadata": {},
     "output_type": "execute_result"
    }
   ],
   "source": [
    "out.shape"
   ]
  },
  {
   "cell_type": "code",
   "execution_count": 12,
   "metadata": {},
   "outputs": [],
   "source": [
    "from torchsummary import summary"
   ]
  },
  {
   "cell_type": "code",
   "execution_count": 16,
   "metadata": {},
   "outputs": [
    {
     "data": {
      "text/plain": [
       "125696"
      ]
     },
     "execution_count": 16,
     "metadata": {},
     "output_type": "execute_result"
    }
   ],
   "source": [
    "256*(70*7)+256"
   ]
  },
  {
   "cell_type": "code",
   "execution_count": null,
   "metadata": {},
   "outputs": [],
   "source": [
    "1014-7+1"
   ]
  },
  {
   "cell_type": "code",
   "execution_count": 13,
   "metadata": {},
   "outputs": [
    {
     "name": "stdout",
     "output_type": "stream",
     "text": [
      "----------------------------------------------------------------\n",
      "        Layer (type)               Output Shape         Param #\n",
      "================================================================\n",
      "            Conv1d-1            [-1, 256, 1008]         125,696\n",
      "       BatchNorm1d-2            [-1, 256, 1008]             512\n",
      "              ReLU-3            [-1, 256, 1008]               0\n",
      "         MaxPool1d-4             [-1, 256, 336]               0\n",
      "            Conv1d-5             [-1, 256, 330]         459,008\n",
      "       BatchNorm1d-6             [-1, 256, 330]             512\n",
      "              ReLU-7             [-1, 256, 330]               0\n",
      "         MaxPool1d-8             [-1, 256, 110]               0\n",
      "            Conv1d-9             [-1, 256, 108]         196,864\n",
      "      BatchNorm1d-10             [-1, 256, 108]             512\n",
      "             ReLU-11             [-1, 256, 108]               0\n",
      "           Conv1d-12             [-1, 256, 106]         196,864\n",
      "      BatchNorm1d-13             [-1, 256, 106]             512\n",
      "             ReLU-14             [-1, 256, 106]               0\n",
      "           Conv1d-15             [-1, 256, 104]         196,864\n",
      "      BatchNorm1d-16             [-1, 256, 104]             512\n",
      "             ReLU-17             [-1, 256, 104]               0\n",
      "           Conv1d-18             [-1, 256, 102]         196,864\n",
      "      BatchNorm1d-19             [-1, 256, 102]             512\n",
      "             ReLU-20             [-1, 256, 102]               0\n",
      "        MaxPool1d-21              [-1, 256, 34]               0\n",
      "           Linear-22                 [-1, 1024]       8,913,920\n",
      "             ReLU-23                 [-1, 1024]               0\n",
      "          Dropout-24                 [-1, 1024]               0\n",
      "           Linear-25                 [-1, 1024]       1,049,600\n",
      "             ReLU-26                 [-1, 1024]               0\n",
      "          Dropout-27                 [-1, 1024]               0\n",
      "           Linear-28                    [-1, 4]           4,100\n",
      "================================================================\n",
      "Total params: 11,342,852\n",
      "Trainable params: 11,342,852\n",
      "Non-trainable params: 0\n",
      "----------------------------------------------------------------\n",
      "Input size (MB): 0.27\n",
      "Forward/backward pass size (MB): 11.29\n",
      "Params size (MB): 43.27\n",
      "Estimated Total Size (MB): 54.83\n",
      "----------------------------------------------------------------\n"
     ]
    }
   ],
   "source": [
    "summary(chartextcnn, input_size=(70,1014))\n",
    "# tensorflow: bn: 256*4"
   ]
  },
  {
   "cell_type": "code",
   "execution_count": null,
   "metadata": {},
   "outputs": [],
   "source": []
  }
 ],
 "metadata": {
  "kernelspec": {
   "display_name": "Python 3 (ipykernel)",
   "language": "python",
   "name": "python3"
  },
  "language_info": {
   "codemirror_mode": {
    "name": "ipython",
    "version": 3
   },
   "file_extension": ".py",
   "mimetype": "text/x-python",
   "name": "python",
   "nbconvert_exporter": "python",
   "pygments_lexer": "ipython3",
   "version": "3.10.9"
  }
 },
 "nbformat": 4,
 "nbformat_minor": 4
}
