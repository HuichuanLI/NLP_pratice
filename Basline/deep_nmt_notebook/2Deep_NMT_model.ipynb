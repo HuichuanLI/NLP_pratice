{
 "cells": [
  {
   "cell_type": "code",
   "execution_count": 2,
   "metadata": {},
   "outputs": [],
   "source": [
    "import torch\n",
    "import torch.nn as nn\n",
    "import numpy as np"
   ]
  },
  {
   "cell_type": "code",
   "execution_count": 3,
   "metadata": {},
   "outputs": [],
   "source": [
    "class Deep_NMT(nn.Module):\n",
    "    def __init__(self,source_vocab_size,target_vocab_size,embedding_size,\n",
    "                 source_length,target_length,lstm_size):\n",
    "        super(Deep_NMT,self).__init__()\n",
    "        self.source_embedding =nn.Embedding(source_vocab_size,embedding_size)\n",
    "        self.target_embedding = nn.Embedding(target_vocab_size,embedding_size)\n",
    "        self.encoder = nn.LSTM(input_size=embedding_size,hidden_size=lstm_size,num_layers=4,\n",
    "                               batch_first=True) # if batch_first==False: input_shape=[length,batch_size,embedding_size]\n",
    "        self.decoder = nn.LSTM(input_size=embedding_size,hidden_size=lstm_size,num_layers=4,\n",
    "                               batch_first=True)\n",
    "        self.fc = nn.Linear(lstm_size, target_vocab_size)\n",
    "    def forward(self, source_data,target_data, mode = \"train\"):\n",
    "        source_data_embedding = self.source_embedding(source_data) # batch_size*length*embedding_size\n",
    "        enc_output, enc_hidden = self.encoder(source_data_embedding)\n",
    "        # enc_output.shape: batch_size*length*lstm_size 只返回最高层的所有hidden\n",
    "        # enc_hidden：[[h1,h2,h3,h4],[c1,c2,c3,c4]] 返回每层最后一个时间步的h和c\n",
    "        if mode==\"train\":\n",
    "            target_data_embedding = self.target_embedding(target_data) # batch_size*length*embedding_size\n",
    "\n",
    "            dec_output, dec_hidden = self.decoder(target_data_embedding,enc_hidden)\n",
    "            # dec_output.shape: batch_size*length*lstm_size 只返回最高层的所有hidden\n",
    "            # dec_hidden：[[h1,h2,h3,h4],[c1,c2,c3,c4]] 返回每层最后一个时间步的h和c\n",
    "            outs = self.fc(dec_output) # batch_size*length*target_vocab_size\n",
    "        else:\n",
    "            target_data_embedding = self.target_embedding(target_data) # batch_size*1*embedding_size\n",
    "            dec_prev_hidden = enc_hidden # [[h1,h2,h3,h4],[c1,c2,c3,c4]]\n",
    "            outs = []\n",
    "            for i in range(100):\n",
    "                dec_output, dec_hidden = self.decoder(target_data_embedding, dec_prev_hidden)\n",
    "                # dec_output.shape: batch_size*1*lstm_size 只返回最高层的所有hidden\n",
    "                # dec_hidden：[[h1,h2,h3,h4],[c1,c2,c3,c4]] 返回每层最后一个时间步的h和c\n",
    "                pred = self.fc(dec_output) # batch_size*1*target_vocab_size\n",
    "                pred = torch.argmax(pred,dim=-1) # batch_size*1\n",
    "                outs.append(pred.squeeze().cpu().numpy())\n",
    "                dec_prev_hidden = dec_hidden # [[h1,h2,h3,h4],[c1,c2,c3,c4]]\n",
    "                target_data_embedding = self.target_embedding(pred) # batch_size*1*embedding_size\n",
    "        return outs"
   ]
  },
  {
   "cell_type": "code",
   "execution_count": 4,
   "metadata": {},
   "outputs": [
    {
     "name": "stdout",
     "output_type": "stream",
     "text": [
      "torch.Size([64, 100, 30000])\n",
      "(100, 64)\n"
     ]
    }
   ],
   "source": [
    "deep_nmt = Deep_NMT(source_vocab_size=30000,target_vocab_size=30000,embedding_size=256,\n",
    "                 source_length=100,target_length=100,lstm_size=256)\n",
    "source_data = torch.Tensor(np.zeros([64,100])).long()\n",
    "target_data = torch.Tensor(np.zeros([64,100])).long()\n",
    "preds = deep_nmt(source_data,target_data)\n",
    "print (preds.shape)\n",
    "target_data = torch.Tensor(np.zeros([64, 1])).long()\n",
    "preds = deep_nmt(source_data, target_data,mode=\"test\")\n",
    "print(np.array(preds).shape)"
   ]
  },
  {
   "cell_type": "code",
   "execution_count": null,
   "metadata": {},
   "outputs": [],
   "source": []
  }
 ],
 "metadata": {
  "kernelspec": {
   "display_name": "Python 3",
   "language": "python",
   "name": "python3"
  },
  "language_info": {
   "codemirror_mode": {
    "name": "ipython",
    "version": 3
   },
   "file_extension": ".py",
   "mimetype": "text/x-python",
   "name": "python",
   "nbconvert_exporter": "python",
   "pygments_lexer": "ipython3",
   "version": "3.7.3"
  }
 },
 "nbformat": 4,
 "nbformat_minor": 4
}
