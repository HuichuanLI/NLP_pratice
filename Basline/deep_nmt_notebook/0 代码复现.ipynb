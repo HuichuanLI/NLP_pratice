{
 "cells": [
  {
   "cell_type": "markdown",
   "metadata": {},
   "source": [
    "# Sequence to Sequence Learning with Neural Networks\n",
    "### 授课老师：Pvop"
   ]
  },
  {
   "cell_type": "markdown",
   "metadata": {},
   "source": [
    "# 1 前言\n",
    "## 1.1课程回顾\n",
    "<img src=\"./imgs/Deep NMT模型.png\"  width=\"700\" height=\"700\" align=\"bottom\" />\n",
    "<img src=\"./imgs/deep_nmt.png\"  width=\"700\" height=\"700\" align=\"bottom\" />"
   ]
  },
  {
   "cell_type": "markdown",
   "metadata": {},
   "source": [
    "## 1.2 课程内容展示\n",
    "<img src=\"./imgs/代码结构.png\"  width=\"300\" height=\"300\" align=\"bottom\" />"
   ]
  },
  {
   "cell_type": "markdown",
   "metadata": {},
   "source": [
    "# 2 准备工作\n",
    "## 2.1项目环境配置\n",
    "\n",
    "* Python3.5\n",
    "* jupyter notebook\n",
    "* torch           1.4.0\n",
    "* numpy           1.16.2\n",
    "* nltk\n",
    "* tqdm\n",
    "\n",
    "代码运行环境建议使用Pycharm  \n",
    "\n",
    "Pycharm：强大的Python IDE，拥有调试、语法高亮、远程调试、代码跳转等功能"
   ]
  },
  {
   "cell_type": "markdown",
   "metadata": {},
   "source": [
    "## 2.2 数据集下载\n",
    "  \n",
    "iwslt14: https://wit3.fbk.eu/archive/2014-01/texts/de/en/de-en.tgz "
   ]
  },
  {
   "cell_type": "markdown",
   "metadata": {},
   "source": [
    "# 3 项目代码结构（pycharm中演示）"
   ]
  },
  {
   "cell_type": "markdown",
   "metadata": {},
   "source": [
    "# 4 算法模块及细节\n",
    "## 4.1 Pytorch数据处理\n",
    "\n",
    "* 1 data_process.ipynb\n",
    "\n",
    "## 4.2 Pytorch模型构建\n",
    "\n",
    "* 2 Deep_NMT_model.ipynb\n",
    "\n",
    "## 4.3 训练和测试\n",
    "\n",
    "* 3 train_test.ipynb\n",
    "\n"
   ]
  },
  {
   "cell_type": "markdown",
   "metadata": {},
   "source": [
    "# 5 代码梳理及细节回顾  \n",
    "<img src=\"./imgs/Deep NMT代码回顾.png\"  width=\"700\" height=\"700\" align=\"bottom\" />"
   ]
  },
  {
   "cell_type": "markdown",
   "metadata": {},
   "source": [
    "# 6 作业\n",
    "  \n",
    "`【思考题】`多层LSTM为什么比单层LSTM要好，对输入逆序为什么能够提高效果，试分析原因？\n",
    "\n",
    "`【代码实践】`理解代码，包括数据读取，模型构建，尤其是训练和测试时模型的区别，为下节课做准备。\n",
    "\n",
    "`【总结】`总结Deep NMT模型以及Deep NMT模型的代码实现。\n",
    "\n",
    "\n",
    "---"
   ]
  },
  {
   "cell_type": "code",
   "execution_count": null,
   "metadata": {},
   "outputs": [],
   "source": []
  }
 ],
 "metadata": {
  "kernelspec": {
   "display_name": "Python 3",
   "language": "python",
   "name": "python3"
  },
  "language_info": {
   "codemirror_mode": {
    "name": "ipython",
    "version": 3
   },
   "file_extension": ".py",
   "mimetype": "text/x-python",
   "name": "python",
   "nbconvert_exporter": "python",
   "pygments_lexer": "ipython3",
   "version": "3.7.4"
  }
 },
 "nbformat": 4,
 "nbformat_minor": 2
}
