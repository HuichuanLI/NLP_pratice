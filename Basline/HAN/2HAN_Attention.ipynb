{
 "cells": [
  {
   "cell_type": "code",
   "execution_count": 1,
   "metadata": {},
   "outputs": [],
   "source": [
    "import torch\n",
    "import torch.nn as nn\n",
    "import numpy as np\n",
    "from torch.nn import functional as F\n",
    "from torch.autograd import Variable"
   ]
  },
  {
   "cell_type": "code",
   "execution_count": 2,
   "metadata": {},
   "outputs": [],
   "source": [
    "class HAN_Model(nn.Module):\n",
    "    def __init__(self,vocab_size,embedding_size,gru_size,class_num,is_pretrain=False,weights=None):\n",
    "        super(HAN_Model, self).__init__()\n",
    "        if is_pretrain:\n",
    "            self.embedding = nn.Embedding.from_pretrained(weights, freeze=False)\n",
    "        else:\n",
    "            self.embedding = nn.Embedding(vocab_size, embedding_size)\n",
    "        self.word_gru = nn.GRU(input_size=embedding_size,hidden_size=gru_size,num_layers=1,\n",
    "                               bidirectional=True,batch_first=True)\n",
    "        self.word_context = nn.Parameter(torch.Tensor(2*gru_size, 1),requires_grad=True)\n",
    "        self.word_dense = nn.Linear(2*gru_size,2*gru_size)\n",
    "\n",
    "        self.sentence_gru = nn.GRU(input_size=2*gru_size,hidden_size=gru_size,num_layers=1,\n",
    "                               bidirectional=True,batch_first=True)\n",
    "        self.sentence_context = nn.Parameter(torch.Tensor(2*gru_size, 1),requires_grad=True)\n",
    "        self.sentence_dense = nn.Linear(2*gru_size,2*gru_size)\n",
    "        self.fc = nn.Linear(2*gru_size,class_num)\n",
    "    def forward(self, x,gpu=False):\n",
    "        sentence_num = x.shape[1] \n",
    "        sentence_length = x.shape[2]\n",
    "        x = x.view([-1,sentence_length]) # x: bs*sentence_num*sentence_length -> (bs*sentence_num)*sentence_length\n",
    "        x_embedding = self.embedding(x) # (bs*sentence_num)*sentence_length*embedding_size\n",
    "        word_outputs, word_hidden = self.word_gru(x_embedding) # word_outputs.shape: (bs*sentence_num)*sentence_length*2gru_size\n",
    "        word_outputs_attention = torch.tanh(self.word_dense(word_outputs)) # (bs*sentence_num)*sentence_length*2gru_size\n",
    "        weights = torch.matmul(word_outputs_attention,self.word_context) # (bs*sentence_num)*sentence_length*1\n",
    "        weights = F.softmax(weights,dim=1) # (bs*sentence_num)*sentence_length*1\n",
    "        x = x.unsqueeze(2) # bs*sentence_num)*sentence_length*1\n",
    "        if gpu:\n",
    "            weights = torch.where(x!=0,weights,torch.full_like(x,0,dtype=torch.float).cuda())\n",
    "        else:\n",
    "            weights = torch.where(x != 0, weights, torch.full_like(x, 0, dtype=torch.float)) # bs*sentence_num)*sentence_length*1\n",
    "\n",
    "        weights = weights/(torch.sum(weights,dim=1).unsqueeze(1)+1e-4) # (bs*sentence_num)*sentence_length*1\n",
    "\n",
    "        sentence_vector = torch.sum(word_outputs*weights,dim=1).view([-1,sentence_num,word_outputs.shape[-1]]) #bs*sentence_num*2gru_size\n",
    "        sentence_outputs, sentence_hidden = self.sentence_gru(sentence_vector)# sentence_outputs.shape: bs*sentence_num*2gru_size\n",
    "        attention_sentence_outputs = torch.tanh(self.sentence_dense(sentence_outputs)) # sentence_outputs.shape: bs*sentence_num*2gru_size\n",
    "        weights = torch.matmul(attention_sentence_outputs,self.sentence_context) # sentence_outputs.shape: bs*sentence_num*1\n",
    "        weights = F.softmax(weights,dim=1) # sentence_outputs.shape: bs*sentence_num*1\n",
    "        x = x.view(-1, sentence_num, x.shape[1]) # bs*sentence_num*sentence_length\n",
    "        x = torch.sum(x, dim=2).unsqueeze(2) # bs*sentence_num*1\n",
    "        if gpu:\n",
    "            weights = torch.where(x!=0,weights,torch.full_like(x,0,dtype=torch.float).cuda())\n",
    "        else:\n",
    "            weights = torch.where(x != 0, weights, torch.full_like(x, 0, dtype=torch.float)) #  bs*sentence_num*1\n",
    "        weights = weights / (torch.sum(weights,dim=1).unsqueeze(1)+1e-4) # bs*sentence_num*1\n",
    "        document_vector = torch.sum(sentence_outputs*weights,dim=1)# bs*2gru_size\n",
    "        output = self.fc(document_vector) #bs*class_num\n",
    "        return output\n"
   ]
  },
  {
   "cell_type": "code",
   "execution_count": 3,
   "metadata": {},
   "outputs": [
    {
     "name": "stdout",
     "output_type": "stream",
     "text": [
      "torch.Size([64, 4])\n"
     ]
    }
   ],
   "source": [
    "han_model = HAN_Model(vocab_size=30000,embedding_size=200,gru_size=50,class_num=4)\n",
    "x = torch.Tensor(np.zeros([64,50,100])).long()\n",
    "x[0][0][0:10] = 1\n",
    "output = han_model(x)\n",
    "print (output.shape)"
   ]
  },
  {
   "cell_type": "code",
   "execution_count": null,
   "metadata": {},
   "outputs": [],
   "source": []
  }
 ],
 "metadata": {
  "kernelspec": {
   "display_name": "Python 3 (ipykernel)",
   "language": "python",
   "name": "python3"
  },
  "language_info": {
   "codemirror_mode": {
    "name": "ipython",
    "version": 3
   },
   "file_extension": ".py",
   "mimetype": "text/x-python",
   "name": "python",
   "nbconvert_exporter": "python",
   "pygments_lexer": "ipython3",
   "version": "3.10.9"
  }
 },
 "nbformat": 4,
 "nbformat_minor": 4
}
