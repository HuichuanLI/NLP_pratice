{
 "cells": [
  {
   "cell_type": "markdown",
   "metadata": {},
   "source": [
    "# Efficient Estimation of Word Representations in Vector Space\n",
    "### 授课老师：Pvop"
   ]
  },
  {
   "cell_type": "markdown",
   "metadata": {},
   "source": [
    "# 1 前言\n",
    "## 1.1课程回顾\n",
    "<img src=\"./imgs/Word2Vec2.png\"  width=\"700\" height=\"700\" align=\"bottom\" />\n",
    "<img src=\"./imgs/Word2vec_structure.png\"  width=\"700\" height=\"700\" align=\"bottom\" />"
   ]
  },
  {
   "cell_type": "markdown",
   "metadata": {},
   "source": [
    "## 1.2 课程内容展示\n",
    "<img src=\"./imgs/code_structure.png\"  width=\"7000\" height=\"700\" align=\"bottom\" />"
   ]
  },
  {
   "cell_type": "markdown",
   "metadata": {},
   "source": [
    "# 2 准备工作\n",
    "## 2.1项目环境配置\n",
    "\n",
    "* Python3.5\n",
    "* jupyter notebook\n",
    "* torch           1.4.0\n",
    "* numpy           1.16.2\n",
    "* tqdm   4.41.1\n",
    "\n",
    "代码运行环境建议使用Pycharm\n",
    "Pycharm：强大的Python IDE，拥有调试、语法高亮、远程调试、代码跳转等功能"
   ]
  },
  {
   "cell_type": "markdown",
   "metadata": {},
   "source": [
    "## 2.2 数据集下载\n",
    "<img src=\"./imgs/wikipedia.png\"  width=\"7000\" height=\"700\" align=\"bottom\" />\n",
    "    \n",
    "Wikipedia英文语料，包含wikipedia里面的所有文章，可以在https://dumps.wikimedia.org/enwiki/latest/ 上下载\n",
    "    \n",
    "<img src=\"./imgs/test_data.png\"  width=\"7000\" height=\"700\" align=\"bottom\" />\n",
    "论文中介绍的词对推理语料，包含五个语义类和九个语法类。其中有8869个语义对样本和10675个语法对样本。可以在http://www.fit.vutbr.cz/~imikolov/rnnlm/word-test.v1.txt 上下载, 同时我们课程会提供给大家"
   ]
  },
  {
   "cell_type": "markdown",
   "metadata": {},
   "source": [
    "# 3 项目代码结构（pycharm中演示）"
   ]
  },
  {
   "cell_type": "markdown",
   "metadata": {},
   "source": [
    "# 4 算法模块及细节\n",
    "## 4.1 Skip-Gram+NGE数据处理\n",
    "\n",
    "* 1 Skip-Gram+NEG data process.ipynb\n",
    "\n",
    "## 4.2 Skip-Gram+NGE模型构建\n",
    "\n",
    "* 2 Skip-Gram+NGE model.ipynb\n",
    "\n",
    "## 4.3 Huffman Tree和Skip-Gram+HS数据处理\n",
    "\n",
    "* 3 Huffman Tree.ipynb\n",
    "* 4 Skip-Gram+HS data process.ipynb\n",
    "\n",
    "## 4.4 Skip-Gram+HS模型构建\n",
    "\n",
    "* 5. Skip-Gram+HS model.ipynb\n",
    "\n",
    "## 4.5 CHOW模型数据处理以及模型构建\n",
    "\n",
    "* Pycharam\n"
   ]
  },
  {
   "cell_type": "markdown",
   "metadata": {},
   "source": [
    "# 5 代码梳理及细节回顾"
   ]
  },
  {
   "cell_type": "markdown",
   "metadata": {},
   "source": [
    "# 6 作业\n",
    "  \n",
    "`【思考题】`Word2Vec到底训练了什么？\n",
    "\n",
    "`【代码实践】`利用Pytorch训练Word2Vec，可以自己在中文语料上训练中文语料的词向量。\n",
    "\n",
    "`【总结】`总结Word2Vec的关键技术以及如何代码实现。\n",
    "\n",
    "\n",
    "---"
   ]
  },
  {
   "cell_type": "code",
   "execution_count": null,
   "metadata": {},
   "outputs": [],
   "source": []
  }
 ],
 "metadata": {
  "kernelspec": {
   "display_name": "Python 3",
   "language": "python",
   "name": "python3"
  },
  "language_info": {
   "codemirror_mode": {
    "name": "ipython",
    "version": 3
   },
   "file_extension": ".py",
   "mimetype": "text/x-python",
   "name": "python",
   "nbconvert_exporter": "python",
   "pygments_lexer": "ipython3",
   "version": "3.7.4"
  }
 },
 "nbformat": 4,
 "nbformat_minor": 2
}
