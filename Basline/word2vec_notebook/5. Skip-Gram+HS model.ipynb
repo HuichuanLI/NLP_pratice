{
 "cells": [
  {
   "cell_type": "code",
   "execution_count": 1,
   "metadata": {},
   "outputs": [],
   "source": [
    "import torch\n",
    "import torch.nn as nn\n",
    "import torch.nn.functional as F"
   ]
  },
  {
   "cell_type": "code",
   "execution_count": 4,
   "metadata": {},
   "outputs": [],
   "source": [
    "class SkipGramModel(nn.Module):\n",
    "    def __init__(self, emb_size, emb_dimension):\n",
    "        super(SkipGramModel, self).__init__()\n",
    "        self.emb_size = emb_size\n",
    "        self.emb_dimension = emb_dimension\n",
    "        self.w_embeddings = nn.Embedding(2*emb_size-1, emb_dimension, sparse=True)\n",
    "        self.v_embeddings = nn.Embedding(2*emb_size-1, emb_dimension, sparse=True)\n",
    "        self._init_emb()\n",
    "\n",
    "    def _init_emb(self):\n",
    "        initrange = 0.5 / self.emb_dimension\n",
    "        self.w_embeddings.weight.data.uniform_(-initrange, initrange)\n",
    "        self.v_embeddings.weight.data.uniform_(-0, 0)\n",
    "\n",
    "    def forward(self, pos_w, pos_v,neg_w, neg_v):\n",
    "        emb_w = self.w_embeddings(torch.LongTensor(pos_w))  # 转为tensor 大小 [ mini_batch_size * emb_dimension ]\n",
    "        neg_emb_w = self.w_embeddings(torch.LongTensor(neg_w))\n",
    "        emb_v = self.v_embeddings(torch.LongTensor(pos_v))\n",
    "        neg_emb_v = self.v_embeddings(torch.LongTensor(neg_v))  # 转换后大小 [ negative_sampling_number * mini_batch_size * emb_dimension ]\n",
    "        score = torch.mul(emb_w, emb_v).squeeze()\n",
    "        score = torch.sum(score, dim=1)\n",
    "        score = torch.clamp(score, max=10, min=-10)\n",
    "        score = F.logsigmoid(score)\n",
    "        neg_score = torch.mul(neg_emb_w, neg_emb_v).squeeze()\n",
    "        neg_score = torch.sum(neg_score, dim=1)\n",
    "        neg_score = torch.clamp(neg_score, max=10, min=-10)\n",
    "        neg_score = F.logsigmoid(-neg_score)\n",
    "        # L = log sigmoid (Xw.T * θv) + [log sigmoid (-Xw.T * θv)]\n",
    "        loss = -1 * (torch.sum(score) + torch.sum(neg_score))\n",
    "        return loss\n",
    "\n",
    "    def save_embedding(self, id2word, file_name):\n",
    "        embedding = self.w_embeddings.weight.data.cpu().numpy()\n",
    "        fout = open(file_name, 'w')\n",
    "        fout.write('%d %d\\n' % (len(id2word), self.emb_dimension))\n",
    "        for wid, w in id2word.items():\n",
    "            e = embedding[wid]\n",
    "            e = ' '.join(map(lambda x: str(x), e))\n",
    "            fout.write('%s %s\\n' % (w, e))"
   ]
  },
  {
   "cell_type": "code",
   "execution_count": 5,
   "metadata": {},
   "outputs": [
    {
     "data": {
      "text/plain": [
       "tensor(6.9315, grad_fn=<MulBackward0>)"
      ]
     },
     "execution_count": 5,
     "metadata": {},
     "output_type": "execute_result"
    }
   ],
   "source": [
    "model = SkipGramModel(100, 10)\n",
    "id2word = dict()\n",
    "for i in range(100):\n",
    "    id2word[i] = str(i)\n",
    "pos_w = [0, 0, 1, 1, 1]\n",
    "pos_v = [1, 2, 0, 2, 3]\n",
    "neg_w = [0, 0, 1, 1, 1]\n",
    "neg_v = [54,55, 61, 71, 82]\n",
    "model.forward(pos_w, pos_v, neg_w,neg_v)"
   ]
  },
  {
   "cell_type": "code",
   "execution_count": 8,
   "metadata": {},
   "outputs": [
    {
     "data": {
      "text/plain": [
       "(199, 10)"
      ]
     },
     "execution_count": 8,
     "metadata": {},
     "output_type": "execute_result"
    }
   ],
   "source": [
    "model.v_embeddings.weight.data.cpu().numpy().shape"
   ]
  },
  {
   "cell_type": "code",
   "execution_count": null,
   "metadata": {},
   "outputs": [],
   "source": []
  }
 ],
 "metadata": {
  "kernelspec": {
   "display_name": "Python 3 (ipykernel)",
   "language": "python",
   "name": "python3"
  },
  "language_info": {
   "codemirror_mode": {
    "name": "ipython",
    "version": 3
   },
   "file_extension": ".py",
   "mimetype": "text/x-python",
   "name": "python",
   "nbconvert_exporter": "python",
   "pygments_lexer": "ipython3",
   "version": "3.10.9"
  }
 },
 "nbformat": 4,
 "nbformat_minor": 2
}
