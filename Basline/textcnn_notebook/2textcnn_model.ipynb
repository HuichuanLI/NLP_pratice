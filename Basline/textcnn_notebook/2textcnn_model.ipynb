{
 "cells": [
  {
   "cell_type": "code",
   "execution_count": 1,
   "metadata": {},
   "outputs": [],
   "source": [
    "import torch\n",
    "import torch.nn as nn"
   ]
  },
  {
   "cell_type": "code",
   "execution_count": 2,
   "metadata": {},
   "outputs": [],
   "source": [
    "class BasicModule(nn.Module):\n",
    "    def __init__(self):\n",
    "        super(BasicModule, self).__init__()\n",
    "        self.model_name = str(type(self))\n",
    "\n",
    "    def load(self, path):\n",
    "        self.load_state_dict(torch.load(path))\n",
    "\n",
    "    def save(self, path):\n",
    "        torch.save(self.state_dict(), path)\n",
    "\n",
    "    def forward(self):\n",
    "        pass"
   ]
  },
  {
   "cell_type": "code",
   "execution_count": 3,
   "metadata": {},
   "outputs": [],
   "source": [
    "import torch.nn.functional as F"
   ]
  },
  {
   "cell_type": "code",
   "execution_count": 4,
   "metadata": {},
   "outputs": [],
   "source": [
    "class TextCNN(BasicModule):\n",
    "\n",
    "    def __init__(self, config):\n",
    "        super(TextCNN, self).__init__()\n",
    "        # 嵌入层\n",
    "        if config.embedding_pretrained is not None:\n",
    "            self.embedding = nn.Embedding.from_pretrained(config.embedding_pretrained, freeze=False)\n",
    "        else:\n",
    "            self.embedding = nn.Embedding(config.n_vocab, config.embed_size) # batchsize*l\n",
    "        # 卷积层\n",
    "        self.conv1d_1 = nn.Conv1d(config.embed_size, config.filter_num, config.filters[0])  # channel\n",
    "        self.conv1d_2 = nn.Conv1d(config.embed_size, config.filter_num, config.filters[1])\n",
    "        self.conv1d_3 = nn.Conv1d(config.embed_size, config.filter_num, config.filters[2])\n",
    "        # 池化层\n",
    "        self.Max_pool_1 = nn.MaxPool1d(config.sentence_max_size-3+1)\n",
    "        self.Max_pool_2 = nn.MaxPool1d(config.sentence_max_size-4+1)\n",
    "        self.Max_pool_3 = nn.MaxPool1d(config.sentence_max_size-5+1)\n",
    "        # Dropout层\n",
    "        self.dropout = nn.Dropout(config.dropout)\n",
    "        #分类层\n",
    "        self.fc = nn.Linear(config.filter_num*len(config.filters), config.label_num)\n",
    "    def forward(self, x):\n",
    "        x = x.long()\n",
    "        out = self.embedding(x) # bs *length*embedding_size\n",
    "        out = out.transpose(1, 2).contiguous() # bs*embedding_size*length\n",
    "        x1 = F.relu(self.conv1d_1(out))\n",
    "        x2 = F.relu(self.conv1d_2(out))\n",
    "        x3 = F.relu(self.conv1d_3(out))\n",
    "        x1 = self.Max_pool_1(x1).squeeze()\n",
    "        x2 = self.Max_pool_2(x2).squeeze()\n",
    "        x3 = self.Max_pool_3(x3).squeeze()\n",
    "        print (x1.size(),x2.size(),x3.size())\n",
    "        out = torch.cat([x1,x2,x3], 1)\n",
    "        out = self.dropout(out)\n",
    "        out = self.fc(out)\n",
    "        return out"
   ]
  },
  {
   "cell_type": "code",
   "execution_count": 5,
   "metadata": {},
   "outputs": [],
   "source": [
    "class config:\n",
    "    def __init__(self):\n",
    "        self.embedding_pretrained = None # 是否使用预训练的词向量\n",
    "        self.n_vocab = 100 # 词表中单词的个数\n",
    "        self.embed_size = 300 # 词向量的维度 \n",
    "        self.cuda = False # 是否使用gpu\n",
    "        self.filter_num = 100 # 每种尺寸卷积核的个数\n",
    "        self.filters = [3,4,5] # 卷积核的尺寸\n",
    "        self.label_num = 2 # 标签个数\n",
    "        self.dropout = 0.5 # dropout的概率\n",
    "        self.sentence_max_size = 50 #最大句子长度"
   ]
  },
  {
   "cell_type": "code",
   "execution_count": 6,
   "metadata": {},
   "outputs": [],
   "source": [
    "config = config()"
   ]
  },
  {
   "cell_type": "code",
   "execution_count": 7,
   "metadata": {},
   "outputs": [],
   "source": [
    "textcnn = TextCNN(config)"
   ]
  },
  {
   "cell_type": "code",
   "execution_count": 8,
   "metadata": {},
   "outputs": [],
   "source": [
    "from torchsummary import summary"
   ]
  },
  {
   "cell_type": "code",
   "execution_count": 9,
   "metadata": {},
   "outputs": [
    {
     "name": "stdout",
     "output_type": "stream",
     "text": [
      "torch.Size([2, 100]) torch.Size([2, 100]) torch.Size([2, 100])\n",
      "----------------------------------------------------------------\n",
      "        Layer (type)               Output Shape         Param #\n",
      "================================================================\n",
      "         Embedding-1              [-1, 50, 300]          30,000\n",
      "            Conv1d-2              [-1, 100, 48]          90,100\n",
      "            Conv1d-3              [-1, 100, 47]         120,100\n",
      "            Conv1d-4              [-1, 100, 46]         150,100\n",
      "         MaxPool1d-5               [-1, 100, 1]               0\n",
      "         MaxPool1d-6               [-1, 100, 1]               0\n",
      "         MaxPool1d-7               [-1, 100, 1]               0\n",
      "           Dropout-8                  [-1, 300]               0\n",
      "            Linear-9                    [-1, 2]             602\n",
      "================================================================\n",
      "Total params: 390,902\n",
      "Trainable params: 390,902\n",
      "Non-trainable params: 0\n",
      "----------------------------------------------------------------\n",
      "Input size (MB): 0.00\n",
      "Forward/backward pass size (MB): 0.23\n",
      "Params size (MB): 1.49\n",
      "Estimated Total Size (MB): 1.72\n",
      "----------------------------------------------------------------\n"
     ]
    }
   ],
   "source": [
    "summary(textcnn, input_size=(50,))"
   ]
  },
  {
   "cell_type": "code",
   "execution_count": null,
   "metadata": {},
   "outputs": [],
   "source": []
  },
  {
   "cell_type": "code",
   "execution_count": null,
   "metadata": {},
   "outputs": [],
   "source": []
  }
 ],
 "metadata": {
  "kernelspec": {
   "display_name": "Python 3",
   "language": "python",
   "name": "python3"
  },
  "language_info": {
   "codemirror_mode": {
    "name": "ipython",
    "version": 3
   },
   "file_extension": ".py",
   "mimetype": "text/x-python",
   "name": "python",
   "nbconvert_exporter": "python",
   "pygments_lexer": "ipython3",
   "version": "3.7.4"
  }
 },
 "nbformat": 4,
 "nbformat_minor": 4
}
