{
 "cells": [
  {
   "cell_type": "markdown",
   "metadata": {},
   "source": [
    "# 基于聚类的文本摘要实现\n",
    "\n",
    "1. 分句与预处理\n",
    "2. 对句子进行编码表示（bert，）\n",
    "3. 计算每个类别的质心\n",
    "4. 对句子向量聚类\n",
    "5. 计算每个句子到质心的距离。\n",
    "6. 选取每个类群中距离最近的句子组合做为摘要\n",
    "\n",
    "---\n",
    "---"
   ]
  },
  {
   "cell_type": "code",
   "execution_count": 1,
   "metadata": {},
   "outputs": [],
   "source": [
    "content = \"\"\"\n",
    "证券日报\n",
    "02-2808:25\n",
    "\n",
    "易会满首秀“施政理念” 聚焦“市场化”\n",
    "\n",
    "■董文\n",
    "\n",
    "昨天，证监会主席易会满与副主席李超、方星海等出席新闻发布会，就科创板和注册制等资本市场热点问题回答记者提问。这些问题涵盖科创板制度安排、注册制与现行核准制的关系、新股定价、退市制度、对外开放、监管改革等众多方面，据笔者观察，易会满答问的核心词是一个，即“市场化”。\n",
    "\n",
    "首先，此次新闻发布会的整体安排就很贴近市场。\n",
    "\n",
    "为了筹办此次发布会，易会满先于2月20日至21日赴上海证券交易所调研，与企业、证券基金机构、会计师事务所、律师事务所代表座谈，就科创板发行上市条件、定价机制、交易制度、减持制度、券商跟投、红筹企业科创板上市等问题听取意见建议。此次新闻发布会前，证监会收集了媒体记者关心关注的很多问题。\n",
    "\n",
    "这次发布会安排上交所理事长黄红元一起回答问题，也是更加贴近市场的一个表现。从黄红元对交易所配套制度、技术准备、储备企业情况等的介绍看，确实回答了一些“解渴”的问题。\n",
    "\n",
    "第二，易会满深入阐述了坚持市场化改革的理念。\n",
    "\n",
    "笔者印象最深的是他对“资本市场生态系统”的看法。他说，“我们遵循市场规律，实际上就是要高度来认识按照它的规律来办事”“能够培养一个健康的生态，这比什么都重要”“好的生态的这种考验和要求，比专业显得更为重要”。\n",
    " \n",
    "\n",
    "在我们这个市场，协调好改革、开放、发展、稳定的关系一直是监管者面临的课题。加强对各个市场主体的监管，确保市场秩序稳定、预期稳定；同时，也要激励市场主体创新发展，通过资本市场做优做强，实现优胜劣汰。平衡这些问题很不容易。\n",
    "\n",
    "要通过深化改革、扩大开放，优化资本市场发行、上市、交易、重组、退市等各个环节的机制，营造依法办事、公平定价、诚信交易的良好市场生态。易会满强调“培养一个健康的生态，这比什么都重要”，体现了长远兼顾、内外兼修的监管理念和发展理念，值得点赞。\n",
    "\n",
    "易会满用坚持“四个必须”和“一个合力”来描述他的监管理念。“四个必须”即必须敬畏市场、必须敬畏法治、必须敬畏专业、必须敬畏风险，“一个合力”是指“资本市场改革发展稳定离不开方方面面的支持”。其中的“敬畏市场”和“敬畏风险”都是强调尊重市场。\n",
    "\n",
    "可见，尊重市场规律，坚持市场化改革，是易会满坚定的理念。\n",
    "\n",
    "第三，科创板和注册制是我国资本市场市场化改革的重要步骤。\n",
    "\n",
    "在科创板试点注册制，核心是体现市场化、法治化的具体落地，为其他板块的改革积累经验。所以，搞好科创板，不是增加一个交易板块的问题，而是深化改革的重大举措。从一定意义上说，科创板具有多层次资本市场引领者的意味，在科创板上市的企业应当具有行业创新引领者的作用。\n",
    "\n",
    "易会满指出，“定价能力、销售能力是考验一家投行的核心竞争力”。这也是资本市场实现真正市场化的极其重要的因素。会计师事务所、律师事务所等中介机构也要提供公平、公开、专业、客观的服务。为了实现这一目标，就要引入境外成熟的机构，加大国内市场竞争的深度。\n",
    "\n",
    "按照中央要求，要通过深化改革，打造一个规范、透明、开放、有活力、有韧性的资本市场。目前正在推进的科创板和注册制试点，是为了增强资本市场对实体经济的包容性，进一步完善支持创新的资本形成机制，根本目的是推进资本市场市场化改革。待积累经验后，向全市场推广。\n",
    "\n",
    "目前，资本市场已经回暖，这为改革提供了良好市场条件，我们要齐心协力，坚持“严标准、稳起步”的原则，积极做好落实和应对工作，注重各市场之间的平衡，确保改革平稳启动实施。\n",
    "\n",
    "易会满：加强与各方沟通协作 促进市场高质量发展\n",
    "\n",
    "■本报记者 左永刚\n",
    "\n",
    "2月27日下午3时30分，在国务院新闻办公室举行的新闻发布会上，中国证监会主席易会满，副主席李超、方星海，上海证券交易所理事长黄红元，证监会首席律师焦津洪介绍了设立科创板并试点注册制，进一步促进资本市场稳定健康发展的有关情况。\n",
    "\n",
    "易会满表示，习近平总书记在2月22日中央政治局集体学习的重要讲话中，从深化金融供给侧结构性改革的高度对资本市场改革发展进行了进一步谋划。“这是中央对资本市场的殷切希望，是一份沉甸甸的责任要求，也是我们进一步发展资本市场的总纲领。”\n",
    "\n",
    "易会满表示，证监会将以习近平新时代中国特色社会主义思想为指导，在国务院金融委的统一指挥协调下，主动加强与相关部委、地方党委政府和市场各方的沟通协作，努力形成工作合力，共同促进资本市场高质量发展。\n",
    "\n",
    "坚持“四个必须” “一个合力”\n",
    "\n",
    "对于如何贯彻落实中央的要求，如何进一步回应股民的关切，推进资本市场持续健康发展，易会满表示“主要考虑坚持‘四个必须’‘一个合力’”。\n",
    "\n",
    "第一，必须敬畏市场，尊重规律、遵循规律，毫不动摇地推进资本市场健康发展。资本市场是现代金融体系的基础，是实体经济的“晴雨表”，不仅关系工商百业、千家万户，同时也对国家金融实力乃至参与国际金融治理能力等构成影响。\n",
    "\n",
    "第二，必须敬畏法治，坚持依法治市、依法监管，切实保护投资者的合法权益。加强监管，保护投资者合法权益是证监会的天职。证监会将坚持增量和存量并重，把好市场入口和市场出口两道关，加强全程监管，实现市场化优胜劣汰。充分发挥资本市场并购重组主渠道作用，进一步盘活存量、提质增效。切实履行监管职责，坚决打击欺诈发行、大股东违规占用、操纵业绩、操纵并购、操纵市场、内幕交易等违法违规行为。\n",
    "\n",
    "第三，必须敬畏专业，强化战略思维、创新思维，全面深化资本市场改革开放。一是提高宏观思维能力，贴近市场各参与方，坚持市场导向、法治导向、监管导向，加强对资本市场宏观战略问题的研究思考，加强顶层设计，增强战略定力，稳步推进重点关注问题的改革创新，在改革中、在发展中破解难题。当前重点是抓好设立科创板并试点注册制，以此带动资本市场全面深化改革。二是完善资本市场基础制度。统筹推进相关上市板块的综合改革。进一步完善交易制度，优化交易监管改革，让市场有明确预期，让投资者有公平交易的机会。进一步加强协调，打通社保基金、保险、企业年金等各类机构投资者的入市渠道，吸引更多中长期资金入市。三是以开放促改革、促发展。从机构、市场、产品等准入维度，全方位推进资本市场高水平对外开放。四是加强监管队伍专业能力建设。资本市场瞬息万变，新情况、新问题不断涌现，证监会将始终保持“本领恐慌”意识，向实践学习，向市场学习，向投资者学习，大力培养各个层级的专门家，锻造专业能力，弘扬专业精神，努力打造一支政治过硬、作风优良、精通资本市场工作的干部队伍。\n",
    "\n",
    "第四，必须敬畏风险，坚持底线思维、运用科学方法，着力防范化解重大金融风险。防范化解金融风险特别是防止发生系统性金融风险，是金融工作的底线和根本性任务，更是监管工作的底线和根本性任务。\n",
    "\n",
    "易会满表示，“一个合力”就是资本市场改革发展稳定离不开方方面面的支持。证监会将以习近平新时代中国特色社会主义思想为指导，在国务院金融委的统一指挥协调下，主动加强与相关部委、地方党委政府和市场各方的沟通协作，努力形成工作合力，共同促进资本市场高质量发展。\n",
    "\n",
    "科创板不仅是一个“板” 核心在于制度创新和改革\n",
    "\n",
    "易会满表示，设立科创板并试点注册制是党中央国务院交给我们的重大改革任务，对于支持科技创新、推动经济高质量发展、推进资本市场市场化改革和加快上海国际金融中心建设具有重要战略意义。\n",
    "\n",
    "下一步，我们将继续扎实细致做好准备工作，推动这项重大改革有效落实落地。\n",
    "\n",
    "易会满就科创板涉及改革的重点问题作出说明。他表示，第一，设立科创板主要目的是增强资本市场对实体经济的包容性，更好地服务具有核心技术、行业领先、有良好发展前景和口碑的企业，通过改革进一步完善支持创新的资本形成机制。第二，设立科创板是深化资本市场改革的具体举措。这次改革不仅是新设一个板块，更重要的是，坚持市场化、法治化的方向，在发行、交易、信息披露、退市等环节进行制度创新，建立健全以信息披露为中心的股票发行上市制度，发挥科创板改革试验田的作用，形成可复制可推广的经验。第三，设立科创板将坚持“严标准、稳起步”的原则，细化相关制度安排，完善风险应对预案，加强投资者教育，注重各市场之间的平衡，确保科创板并试点注册制平稳启动实施。\n",
    "\n",
    "设立科创板并试点注册制改革，将更好地发挥市场机制作用。易会满表示，要把设立科创板并试点注册制做好，除了证监会和上交所要更好地履行职责，需要各市场参与方能够齐心协力，共同把创新的事情做好。首先发行人要充分地进行信息披露。其次，保荐机构需要在定价、承销等方面提升自身能力，需要券商、投行机构做充分准备。这是最重要的市场化因素。会计师事务所、律师事务所等中介机构也要为市场提供公平、公开、专业、客观的服务。试点注册制需要非常好的外部法律环境，所以需要进一步推进《证券法》等相关法律的修订，进一步提高违法违规成本，保护投资者的合法权益。向市场化推进，还需要建立严格的退市制度。\n",
    "\n",
    "“如果能把上述几个因素解决好，那就能够把金融的软环境、软实力提高到一个新的水平，尤其是市场各相关参与方会出现一个脱胎换骨的变化。希望大家齐心协力把注册制推好，为今后资本市场其他板块的改革积累经验，充分发挥试验田的作用。”易会满强调。\n",
    "\n",
    "依靠市场按市场规律办事 培养健康的资本市场生态体系\n",
    "\n",
    "谈及间接融资市场和直接融资市场的差异，易会满坦言，“银行业和证券业有很大区别，银行业从事的间接融资主要是看现在，资本市场也是一种融资，但更多的是看未来，所以才有估值、倍数、杠杆，以及带来一系列资本市场相应的创新业务。这两个确实从出发点到最后的基本规则是不太一样的。”\n",
    "\n",
    "“对于我来说，到证监会以后需要不断地学习，不断地研究。很多专业的问题，一方面证监会有强大的专业化团队，另一方面资本市场是一个生态体系，这需要依靠市场参与者，调动市场参与者，按市场规律来办事。我们遵循市场规律，实际上就是要高度认识并按照市场规律来办事。一个人能力是非常有限的，还是要靠我们这支专业团队、靠全市场的参与方，才能培养一个健康的资本市场生态体系。生态体系建设好了，资本市场的健康发展才有保证。”易会满最后总结说。\n",
    "易会满落座 侯捷宁摄\n",
    "\n",
    "易会满亮相：我是资本市场的一个新兵\n",
    "\n",
    "■本报记者 苏诗钰\n",
    "\n",
    "2月27日下午3时30分，国务院新闻办公室举行了一场新闻发布会，中国证监会新上任的主席易会满对市场近期的热点问题进行回应。\n",
    "\n",
    "《证券日报》记者走进发布会现场时问了一句“人多吗？”核对名单的两名工作人员异口同声地说：“很多！”\n",
    "\n",
    "据现场国新办工作人员透露，本次发布会报名记者将近百人，相比其他发布会多出很多。当记者走进发布会现场，不禁感叹“嚯！”媒体席早已座无虚席。\n",
    "\n",
    "下午3时30分，易会满和他的小伙伴们走进发布会现场，发布会准时开始。这次发布会是易会满的“首秀”，也是他上任的第31天，换句话说，这位证监会主席上任已“满月”。\n",
    "\n",
    "“很高兴我和我的同事今天下午和大家见面。我到证监会工作刚满一个月，我还是资本市场的一个新兵。”易会满这一番谦逊、随和的开场白，立马拉近了与现场记者的距离。\n",
    "\n",
    "紧接着他说，从市场参与者到监管者，角色转换挑战很大，自己如履薄冰，不敢有丝毫懈怠，唯恐辜负中央的信任和大家对我的期待。当然，大家的期待也是我加强学习、做好工作的动力。\n",
    "\n",
    "这位以“实干”而出名的证监会新主席还真的有点不一样。他的发言一丝不苟，说到自己所接触到的新东西新内容新知识的时候，非常认真。\n",
    "\n",
    "\n",
    "易会满表示，这段时间，自己一方面抓紧熟悉情况，加强调查研究，另一方面，增进部门协作，共同维护资本市场平稳健康发展。\n",
    "\n",
    "说到来证监会一个月的时间里的感触，易会满更是“金句”频频。他表示，主要有三点：第一点感受是对自己来说最需要的是要加强学习。尽管在金融行业、银行工作了35年，从基层到总行，但是相对资本市场来说自己是一个“新兵”，特别是对于当前日新月异的资本市场变化而言，自己很需要对相应的知识进行学习，新的环境需要适应，新的问题需要研究。第二点感受是证监会主席的职位好像是一个“火山口”，因为股市确实牵动着亿万投资者的心。证监会的工作直接面对市场，每一天都在做现场直播，所以不管你愿意不愿意、喜欢不喜欢，这一个月已经感受到了什么叫“火山口”，也感受到了“火山口”的味道。第三点感受是对于自己来说需要保持定力。工作当中需要不忘初心，牢记使命，坚持正确的目标和方向，把握好节奏和力度，一步一个脚印，不浮躁、不急躁，完成好上述各项任务。\n",
    "\n",
    "整场发布会下来，易会满对科创板、注册制等多个问题进行了详细的回答解读，更是在发布会结束后被现场记者团团围住。看到记者们蜂拥而上，易会满并没有着急要走，而是依然坐在发言台上认真地听台下记者们的提问。\n",
    "\n",
    "\"\"\"\n",
    "title = \"易会满首秀“施政理念” 聚焦“市场化”\"\n"
   ]
  },
  {
   "cell_type": "code",
   "execution_count": 2,
   "metadata": {},
   "outputs": [],
   "source": [
    "# 1. 分句,清理标点符号\n",
    "import re\n",
    "def split_document(para):\n",
    "    line_split = re.split(r'[|。|！|；|？|]|\\n|，', para.strip())\n",
    "    _seg_sents = [re.sub(r'[^\\w\\s]','',sent) for sent in line_split]\n",
    "    _seg_sents = [sent for sent in _seg_sents  if sent != '']\n",
    "    return _seg_sents"
   ]
  },
  {
   "cell_type": "code",
   "execution_count": 3,
   "metadata": {},
   "outputs": [],
   "source": [
    "sentences = split_document(content)"
   ]
  },
  {
   "cell_type": "code",
   "execution_count": 5,
   "metadata": {},
   "outputs": [
    {
     "name": "stdout",
     "output_type": "stream",
     "text": [
      "\u001b[33mWARNING: Retrying (Retry(total=4, connect=None, read=None, redirect=None, status=None)) after connection broken by 'NewConnectionError('<pip._vendor.urllib3.connection.HTTPSConnection object at 0x1045167a0>: Failed to establish a new connection: [Errno 8] nodename nor servname provided, or not known')': /simple/nltk/\u001b[0m\u001b[33m\n",
      "\u001b[0m\u001b[33mWARNING: Retrying (Retry(total=3, connect=None, read=None, redirect=None, status=None)) after connection broken by 'NewConnectionError('<pip._vendor.urllib3.connection.HTTPSConnection object at 0x1045146d0>: Failed to establish a new connection: [Errno 8] nodename nor servname provided, or not known')': /simple/nltk/\u001b[0m\u001b[33m\n",
      "\u001b[0m\u001b[33mWARNING: Retrying (Retry(total=2, connect=None, read=None, redirect=None, status=None)) after connection broken by 'NewConnectionError('<pip._vendor.urllib3.connection.HTTPSConnection object at 0x104516140>: Failed to establish a new connection: [Errno 8] nodename nor servname provided, or not known')': /simple/nltk/\u001b[0m\u001b[33m\n",
      "\u001b[0m\u001b[33mWARNING: Retrying (Retry(total=1, connect=None, read=None, redirect=None, status=None)) after connection broken by 'NewConnectionError('<pip._vendor.urllib3.connection.HTTPSConnection object at 0x104514880>: Failed to establish a new connection: [Errno 8] nodename nor servname provided, or not known')': /simple/nltk/\u001b[0m\u001b[33m\n",
      "\u001b[0m\u001b[33mWARNING: Retrying (Retry(total=0, connect=None, read=None, redirect=None, status=None)) after connection broken by 'NewConnectionError('<pip._vendor.urllib3.connection.HTTPSConnection object at 0x1045165c0>: Failed to establish a new connection: [Errno 8] nodename nor servname provided, or not known')': /simple/nltk/\u001b[0m\u001b[33m\n",
      "\u001b[0m\u001b[31mERROR: Could not find a version that satisfies the requirement nltk (from versions: none)\u001b[0m\u001b[31m\n",
      "\u001b[0m\u001b[31mERROR: No matching distribution found for nltk\u001b[0m\u001b[31m\n",
      "\u001b[0m"
     ]
    }
   ],
   "source": [
    "!pip install nltk"
   ]
  },
  {
   "cell_type": "code",
   "execution_count": 7,
   "metadata": {},
   "outputs": [],
   "source": [
    "import nltk\n",
    "import pandas as pd\n",
    "from nltk.cluster import KMeansClusterer\n",
    "import numpy as np"
   ]
  },
  {
   "cell_type": "code",
   "execution_count": 8,
   "metadata": {},
   "outputs": [],
   "source": [
    "# 2. 计算句子向量(使用BERT)"
   ]
  },
  {
   "cell_type": "code",
   "execution_count": 9,
   "metadata": {},
   "outputs": [
    {
     "data": {
      "application/vnd.jupyter.widget-view+json": {
       "model_id": "54f9358cd4c94d65909e451266be1509",
       "version_major": 2,
       "version_minor": 0
      },
      "text/plain": [
       "vocab.txt:   0%|          | 0.00/110k [00:00<?, ?B/s]"
      ]
     },
     "metadata": {},
     "output_type": "display_data"
    },
    {
     "data": {
      "application/vnd.jupyter.widget-view+json": {
       "model_id": "2493846a69e8412d81355096b1b51277",
       "version_major": 2,
       "version_minor": 0
      },
      "text/plain": [
       "config.json:   0%|          | 0.00/633 [00:00<?, ?B/s]"
      ]
     },
     "metadata": {},
     "output_type": "display_data"
    },
    {
     "name": "stderr",
     "output_type": "stream",
     "text": [
      "The tokenizer class you load from this checkpoint is not the same type as the class this function is called from. It may result in unexpected tokenization. \n",
      "The tokenizer class you load from this checkpoint is 'AlbertTokenizerFast'. \n",
      "The class this function is called from is 'BertTokenizer'.\n"
     ]
    },
    {
     "data": {
      "application/vnd.jupyter.widget-view+json": {
       "model_id": "bdc1b9a115424ff5ad2bfd58511713e6",
       "version_major": 2,
       "version_minor": 0
      },
      "text/plain": [
       "pytorch_model.bin:   0%|          | 0.00/19.3M [00:00<?, ?B/s]"
      ]
     },
     "metadata": {},
     "output_type": "display_data"
    },
    {
     "name": "stderr",
     "output_type": "stream",
     "text": [
      "/Users/lhc456/miniconda/envs/tf_test/lib/python3.10/site-packages/torch/_utils.py:831: UserWarning: TypedStorage is deprecated. It will be removed in the future and UntypedStorage will be the only storage class. This should only matter to you if you are using storages directly.  To access UntypedStorage directly, use tensor.untyped_storage() instead of tensor.storage()\n",
      "  return self.fget.__get__(instance, owner)()\n"
     ]
    }
   ],
   "source": [
    "import torch\n",
    "from transformers import BertTokenizer, AlbertModel\n",
    "\n",
    "#Mean Pooling - Take attention mask into account for correct average\n",
    "def mean_pooling(model_output, attention_mask):\n",
    "    token_embeddings = model_output[0] #First element of model_output contains all token embeddings\n",
    "    input_mask_expanded = attention_mask.unsqueeze(-1).expand(token_embeddings.size()).float()\n",
    "    return torch.sum(token_embeddings * input_mask_expanded, 1) / torch.clamp(input_mask_expanded.sum(1), min=1e-9)\n",
    "\n",
    "\n",
    "path = 'clue/albert_chinese_small'\n",
    "tokenizer = BertTokenizer.from_pretrained(path)\n",
    "model = AlbertModel.from_pretrained(path)\n",
    "\n",
    "def _get_sentence_embeddings(sentences):\n",
    "    # Tokenize sentences\n",
    "    encoded_input = tokenizer(sentences, padding=True, truncation=True, return_tensors='pt')\n",
    "    # encoded_input: data:dict{'input_ids','token_type_ids', 'attention_mask'}\n",
    "    # input_ids: 完整输入序列token的id,包含[CLS]\n",
    "    # token_type_ids: segment type,区分两句话,如果是一句话,就只有一个值:0\n",
    "    # attention_mask: mask向量,没有mask就是1.\n",
    "    \n",
    "    # Compute token embeddings\n",
    "    with torch.no_grad():\n",
    "        model_output = model(**encoded_input)\n",
    "    \n",
    "    # model_output\n",
    "    # last_hidden_state: [bs, seq_len, hidden_dim],\n",
    "    # last_hidden_state: [bs, hidden_dim], \n",
    "    # pooler_output: [bs, hidden_dim]\n",
    "    \n",
    "    # Perform pooling. In this case, max pooling.\n",
    "    sentence_embeddings = mean_pooling(model_output, encoded_input['attention_mask'])\n",
    "\n",
    "    print(\"Sentence embeddings shape:\")\n",
    "    print(sentence_embeddings.shape)\n",
    "    return sentence_embeddings"
   ]
  },
  {
   "cell_type": "code",
   "execution_count": 10,
   "metadata": {},
   "outputs": [
    {
     "name": "stderr",
     "output_type": "stream",
     "text": [
      "Asking to truncate to max_length but no maximum length is provided and the model has no predefined maximum length. Default to no truncation.\n"
     ]
    },
    {
     "name": "stdout",
     "output_type": "stream",
     "text": [
      "Sentence embeddings shape:\n",
      "torch.Size([350, 384])\n"
     ]
    }
   ],
   "source": [
    "sentence_embeddings = _get_sentence_embeddings(sentences)"
   ]
  },
  {
   "cell_type": "code",
   "execution_count": 11,
   "metadata": {},
   "outputs": [],
   "source": [
    "# 3. 直接用句子向量来聚类\n",
    "# 简单KMeans聚类的实现: 1. 定义NUM_CLUSTERS, 2. 定义迭代次数 3.定义距离函数cosine_distance 4. 执行聚类\n",
    "NUM_CLUSTERS=10\n",
    "iterations=25 \n",
    "X = sentence_embeddings.numpy()\n",
    "kclusterer = KMeansClusterer(\n",
    "        NUM_CLUSTERS, distance=nltk.cluster.util.cosine_distance,\n",
    "        repeats=iterations,avoid_empty_clusters=True)\n",
    "\n",
    "assigned_clusters = kclusterer.cluster(X, assign_clusters=True) # 计算所有句子的分组"
   ]
  },
  {
   "cell_type": "code",
   "execution_count": 12,
   "metadata": {},
   "outputs": [
    {
     "data": {
      "text/plain": [
       "(384,)"
      ]
     },
     "execution_count": 12,
     "metadata": {},
     "output_type": "execute_result"
    }
   ],
   "source": [
    "# 质心向量：个类别的质心向量\n",
    "kclusterer.means()[0].shape"
   ]
  },
  {
   "cell_type": "code",
   "execution_count": 13,
   "metadata": {},
   "outputs": [
    {
     "data": {
      "text/plain": [
       "10"
      ]
     },
     "execution_count": 13,
     "metadata": {},
     "output_type": "execute_result"
    }
   ],
   "source": [
    "len(kclusterer.means()) # 放着每个cluster的质心"
   ]
  },
  {
   "cell_type": "code",
   "execution_count": 14,
   "metadata": {},
   "outputs": [],
   "source": [
    "# 合并 sentence,embedding,cluster,centroid vecotr"
   ]
  },
  {
   "cell_type": "code",
   "execution_count": 15,
   "metadata": {},
   "outputs": [],
   "source": [
    "data = pd.DataFrame(sentences)\n",
    "data.columns=['sentence']"
   ]
  },
  {
   "cell_type": "code",
   "execution_count": 16,
   "metadata": {},
   "outputs": [],
   "source": [
    "data['embedding'] = sentence_embeddings.numpy().tolist()"
   ]
  },
  {
   "cell_type": "code",
   "execution_count": 17,
   "metadata": {},
   "outputs": [],
   "source": [
    "data['cluster']=pd.Series(assigned_clusters, index=data.index)  # 将分组加入data中\n",
    "data['centroid']=data['cluster'].apply(lambda x: kclusterer.means()[x]) # 加入质心向量"
   ]
  },
  {
   "cell_type": "code",
   "execution_count": 18,
   "metadata": {},
   "outputs": [
    {
     "data": {
      "text/html": [
       "<div>\n",
       "<style scoped>\n",
       "    .dataframe tbody tr th:only-of-type {\n",
       "        vertical-align: middle;\n",
       "    }\n",
       "\n",
       "    .dataframe tbody tr th {\n",
       "        vertical-align: top;\n",
       "    }\n",
       "\n",
       "    .dataframe thead th {\n",
       "        text-align: right;\n",
       "    }\n",
       "</style>\n",
       "<table border=\"1\" class=\"dataframe\">\n",
       "  <thead>\n",
       "    <tr style=\"text-align: right;\">\n",
       "      <th></th>\n",
       "      <th>sentence</th>\n",
       "      <th>embedding</th>\n",
       "      <th>cluster</th>\n",
       "      <th>centroid</th>\n",
       "    </tr>\n",
       "  </thead>\n",
       "  <tbody>\n",
       "    <tr>\n",
       "      <th>0</th>\n",
       "      <td>证券日报</td>\n",
       "      <td>[0.12764127552509308, -0.6048466563224792, 0.5...</td>\n",
       "      <td>6</td>\n",
       "      <td>[0.054450907, -0.5298629, 0.44455624, -0.03067...</td>\n",
       "    </tr>\n",
       "    <tr>\n",
       "      <th>1</th>\n",
       "      <td>02280825</td>\n",
       "      <td>[0.28137654066085815, -0.4919031858444214, 0.3...</td>\n",
       "      <td>7</td>\n",
       "      <td>[0.3377025, -0.1149105, 0.8343079, -0.21452615...</td>\n",
       "    </tr>\n",
       "    <tr>\n",
       "      <th>2</th>\n",
       "      <td>易会满首秀施政理念 聚焦市场化</td>\n",
       "      <td>[-0.033091701567173004, -0.3530295789241791, 0...</td>\n",
       "      <td>2</td>\n",
       "      <td>[-0.037708595, -0.4828226, 0.5743691, -0.22180...</td>\n",
       "    </tr>\n",
       "    <tr>\n",
       "      <th>3</th>\n",
       "      <td>董文</td>\n",
       "      <td>[0.2716076970100403, 0.4346575140953064, 1.143...</td>\n",
       "      <td>7</td>\n",
       "      <td>[0.3377025, -0.1149105, 0.8343079, -0.21452615...</td>\n",
       "    </tr>\n",
       "    <tr>\n",
       "      <th>4</th>\n",
       "      <td>昨天</td>\n",
       "      <td>[0.2903289496898651, -0.17775210738182068, 0.8...</td>\n",
       "      <td>7</td>\n",
       "      <td>[0.3377025, -0.1149105, 0.8343079, -0.21452615...</td>\n",
       "    </tr>\n",
       "  </tbody>\n",
       "</table>\n",
       "</div>"
      ],
      "text/plain": [
       "          sentence                                          embedding  \\\n",
       "0             证券日报  [0.12764127552509308, -0.6048466563224792, 0.5...   \n",
       "1         02280825  [0.28137654066085815, -0.4919031858444214, 0.3...   \n",
       "2  易会满首秀施政理念 聚焦市场化  [-0.033091701567173004, -0.3530295789241791, 0...   \n",
       "3               董文  [0.2716076970100403, 0.4346575140953064, 1.143...   \n",
       "4               昨天  [0.2903289496898651, -0.17775210738182068, 0.8...   \n",
       "\n",
       "   cluster                                           centroid  \n",
       "0        6  [0.054450907, -0.5298629, 0.44455624, -0.03067...  \n",
       "1        7  [0.3377025, -0.1149105, 0.8343079, -0.21452615...  \n",
       "2        2  [-0.037708595, -0.4828226, 0.5743691, -0.22180...  \n",
       "3        7  [0.3377025, -0.1149105, 0.8343079, -0.21452615...  \n",
       "4        7  [0.3377025, -0.1149105, 0.8343079, -0.21452615...  "
      ]
     },
     "execution_count": 18,
     "metadata": {},
     "output_type": "execute_result"
    }
   ],
   "source": [
    "data.head()"
   ]
  },
  {
   "cell_type": "code",
   "execution_count": 19,
   "metadata": {},
   "outputs": [],
   "source": [
    "# 计算sentence的embedding和质心的距离"
   ]
  },
  {
   "cell_type": "code",
   "execution_count": 20,
   "metadata": {},
   "outputs": [],
   "source": [
    "# 一种向量距离计算方法（欧式距离）\n",
    "from scipy.spatial import distance_matrix\n",
    "def distance_from_centroid(row):\n",
    "    return distance_matrix([row['embedding']], [row['centroid'].tolist()])[0][0]"
   ]
  },
  {
   "cell_type": "code",
   "execution_count": 21,
   "metadata": {},
   "outputs": [],
   "source": [
    "data['distance_from_centroid'] = data.apply(distance_from_centroid, axis=1)"
   ]
  },
  {
   "cell_type": "code",
   "execution_count": 22,
   "metadata": {
    "scrolled": true
   },
   "outputs": [
    {
     "data": {
      "text/html": [
       "<div>\n",
       "<style scoped>\n",
       "    .dataframe tbody tr th:only-of-type {\n",
       "        vertical-align: middle;\n",
       "    }\n",
       "\n",
       "    .dataframe tbody tr th {\n",
       "        vertical-align: top;\n",
       "    }\n",
       "\n",
       "    .dataframe thead th {\n",
       "        text-align: right;\n",
       "    }\n",
       "</style>\n",
       "<table border=\"1\" class=\"dataframe\">\n",
       "  <thead>\n",
       "    <tr style=\"text-align: right;\">\n",
       "      <th></th>\n",
       "      <th>sentence</th>\n",
       "      <th>embedding</th>\n",
       "      <th>cluster</th>\n",
       "      <th>centroid</th>\n",
       "      <th>distance_from_centroid</th>\n",
       "    </tr>\n",
       "  </thead>\n",
       "  <tbody>\n",
       "    <tr>\n",
       "      <th>0</th>\n",
       "      <td>证券日报</td>\n",
       "      <td>[0.12764133512973785, -0.6048475503921509, 0.5...</td>\n",
       "      <td>7</td>\n",
       "      <td>[0.12938973, -0.25066137, 0.66949224, -0.39135...</td>\n",
       "      <td>5.443078</td>\n",
       "    </tr>\n",
       "    <tr>\n",
       "      <th>1</th>\n",
       "      <td>02280825</td>\n",
       "      <td>[0.28137677907943726, -0.49190282821655273, 0....</td>\n",
       "      <td>8</td>\n",
       "      <td>[0.45281145, -0.3470253, 0.7915312, -0.2133681...</td>\n",
       "      <td>7.247453</td>\n",
       "    </tr>\n",
       "    <tr>\n",
       "      <th>2</th>\n",
       "      <td>易会满首秀施政理念 聚焦市场化</td>\n",
       "      <td>[-0.033091142773628235, -0.3530290722846985, 0...</td>\n",
       "      <td>6</td>\n",
       "      <td>[0.08491076, -0.535018, 0.39108402, -0.1107474...</td>\n",
       "      <td>3.799001</td>\n",
       "    </tr>\n",
       "    <tr>\n",
       "      <th>3</th>\n",
       "      <td>董文</td>\n",
       "      <td>[0.2716088891029358, 0.43465596437454224, 1.14...</td>\n",
       "      <td>7</td>\n",
       "      <td>[0.12938973, -0.25066137, 0.66949224, -0.39135...</td>\n",
       "      <td>6.189084</td>\n",
       "    </tr>\n",
       "    <tr>\n",
       "      <th>4</th>\n",
       "      <td>昨天</td>\n",
       "      <td>[0.29032811522483826, -0.17775008082389832, 0....</td>\n",
       "      <td>8</td>\n",
       "      <td>[0.45281145, -0.3470253, 0.7915312, -0.2133681...</td>\n",
       "      <td>5.581340</td>\n",
       "    </tr>\n",
       "  </tbody>\n",
       "</table>\n",
       "</div>"
      ],
      "text/plain": [
       "          sentence                                          embedding  \\\n",
       "0             证券日报  [0.12764133512973785, -0.6048475503921509, 0.5...   \n",
       "1         02280825  [0.28137677907943726, -0.49190282821655273, 0....   \n",
       "2  易会满首秀施政理念 聚焦市场化  [-0.033091142773628235, -0.3530290722846985, 0...   \n",
       "3               董文  [0.2716088891029358, 0.43465596437454224, 1.14...   \n",
       "4               昨天  [0.29032811522483826, -0.17775008082389832, 0....   \n",
       "\n",
       "   cluster                                           centroid  \\\n",
       "0        7  [0.12938973, -0.25066137, 0.66949224, -0.39135...   \n",
       "1        8  [0.45281145, -0.3470253, 0.7915312, -0.2133681...   \n",
       "2        6  [0.08491076, -0.535018, 0.39108402, -0.1107474...   \n",
       "3        7  [0.12938973, -0.25066137, 0.66949224, -0.39135...   \n",
       "4        8  [0.45281145, -0.3470253, 0.7915312, -0.2133681...   \n",
       "\n",
       "   distance_from_centroid  \n",
       "0                5.443078  \n",
       "1                7.247453  \n",
       "2                3.799001  \n",
       "3                6.189084  \n",
       "4                5.581340  "
      ]
     },
     "execution_count": 22,
     "metadata": {},
     "output_type": "execute_result"
    }
   ],
   "source": [
    "data.head()"
   ]
  },
  {
   "cell_type": "code",
   "execution_count": 23,
   "metadata": {},
   "outputs": [],
   "source": [
    "# 1. 按照cluster 进行分组\n",
    "# 2. 组内排序\n",
    "# 3. 按照文章顺序顺序取原来的句子"
   ]
  },
  {
   "cell_type": "code",
   "execution_count": 25,
   "metadata": {},
   "outputs": [],
   "source": [
    "summary=data.sort_values('distance_from_centroid',ascending = True).groupby('cluster').head(1).sort_index()['sentence'].tolist()"
   ]
  },
  {
   "cell_type": "code",
   "execution_count": 26,
   "metadata": {},
   "outputs": [
    {
     "data": {
      "text/plain": [
       "['加强对各个市场主体的监管',\n",
       " '科创板和注册制是我国资本市场市场化改革的重要步骤',\n",
       " '不是增加一个交易板块的问题',\n",
       " '易会满表示',\n",
       " '第三',\n",
       " '设立科创板主要目的是增强资本市场对实体经济的包容性',\n",
       " '易会满强调',\n",
       " '中国证监会新上任的主席易会满对市场近期的热点问题进行回应',\n",
       " '但是相对资本市场来说自己是一个新兵',\n",
       " '第三点感受是对于自己来说需要保持定力']"
      ]
     },
     "execution_count": 26,
     "metadata": {},
     "output_type": "execute_result"
    }
   ],
   "source": [
    "summary"
   ]
  },
  {
   "cell_type": "code",
   "execution_count": null,
   "metadata": {},
   "outputs": [],
   "source": []
  },
  {
   "cell_type": "code",
   "execution_count": null,
   "metadata": {},
   "outputs": [],
   "source": []
  }
 ],
 "metadata": {
  "kernelspec": {
   "display_name": "Python 3 (ipykernel)",
   "language": "python",
   "name": "python3"
  },
  "language_info": {
   "codemirror_mode": {
    "name": "ipython",
    "version": 3
   },
   "file_extension": ".py",
   "mimetype": "text/x-python",
   "name": "python",
   "nbconvert_exporter": "python",
   "pygments_lexer": "ipython3",
   "version": "3.10.9"
  }
 },
 "nbformat": 4,
 "nbformat_minor": 4
}
