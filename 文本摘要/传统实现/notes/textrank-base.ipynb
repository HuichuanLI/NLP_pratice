{
 "cells": [
  {
   "cell_type": "markdown",
   "metadata": {},
   "source": [
    "# TextRank算法基础实现\n",
    "\n",
    "## 1. 基础实现\n",
    "\n",
    "1. 分句+分词+基础数据预处理\n",
    "2. 加载词向量，构造句向量\n",
    "3. 得到词语的embedding，计算平均作为句子的向量表示\n",
    "4. 计算句子之间的余弦相似度，构成相似度矩阵\n",
    "5. 迭代得到句子的textrank值，排序并取出摘要\n",
    "\n",
    "## 2. 对过长句子的惩罚\n",
    "\n",
    "---\n",
    "---"
   ]
  },
  {
   "cell_type": "code",
   "execution_count": 13,
   "metadata": {},
   "outputs": [],
   "source": [
    "import re"
   ]
  },
  {
   "cell_type": "code",
   "execution_count": 152,
   "metadata": {},
   "outputs": [],
   "source": [
    "content = \"\"\"\n",
    "证券日报\n",
    "02-2808:25\n",
    "\n",
    "易会满首秀“施政理念” 聚焦“市场化”\n",
    "\n",
    "■董文\n",
    "\n",
    "昨天，证监会主席易会满与副主席李超、方星海等出席新闻发布会，就科创板和注册制等资本市场热点问题回答记者提问。这些问题涵盖科创板制度安排、注册制与现行核准制的关系、新股定价、退市制度、对外开放、监管改革等众多方面，据笔者观察，易会满答问的核心词是一个，即“市场化”。\n",
    "\n",
    "首先，此次新闻发布会的整体安排就很贴近市场。\n",
    "\n",
    "为了筹办此次发布会，易会满先于2月20日至21日赴上海证券交易所调研，与企业、证券基金机构、会计师事务所、律师事务所代表座谈，就科创板发行上市条件、定价机制、交易制度、减持制度、券商跟投、红筹企业科创板上市等问题听取意见建议。此次新闻发布会前，证监会收集了媒体记者关心关注的很多问题。\n",
    "\n",
    "这次发布会安排上交所理事长黄红元一起回答问题，也是更加贴近市场的一个表现。从黄红元对交易所配套制度、技术准备、储备企业情况等的介绍看，确实回答了一些“解渴”的问题。\n",
    "\n",
    "第二，易会满深入阐述了坚持市场化改革的理念。\n",
    "\n",
    "笔者印象最深的是他对“资本市场生态系统”的看法。他说，“我们遵循市场规律，实际上就是要高度来认识按照它的规律来办事”“能够培养一个健康的生态，这比什么都重要”“好的生态的这种考验和要求，比专业显得更为重要”。\n",
    " \n",
    "\n",
    "在我们这个市场，协调好改革、开放、发展、稳定的关系一直是监管者面临的课题。加强对各个市场主体的监管，确保市场秩序稳定、预期稳定；同时，也要激励市场主体创新发展，通过资本市场做优做强，实现优胜劣汰。平衡这些问题很不容易。\n",
    "\n",
    "要通过深化改革、扩大开放，优化资本市场发行、上市、交易、重组、退市等各个环节的机制，营造依法办事、公平定价、诚信交易的良好市场生态。易会满强调“培养一个健康的生态，这比什么都重要”，体现了长远兼顾、内外兼修的监管理念和发展理念，值得点赞。\n",
    "\n",
    "易会满用坚持“四个必须”和“一个合力”来描述他的监管理念。“四个必须”即必须敬畏市场、必须敬畏法治、必须敬畏专业、必须敬畏风险，“一个合力”是指“资本市场改革发展稳定离不开方方面面的支持”。其中的“敬畏市场”和“敬畏风险”都是强调尊重市场。\n",
    "\n",
    "可见，尊重市场规律，坚持市场化改革，是易会满坚定的理念。\n",
    "\n",
    "第三，科创板和注册制是我国资本市场市场化改革的重要步骤。\n",
    "\n",
    "在科创板试点注册制，核心是体现市场化、法治化的具体落地，为其他板块的改革积累经验。所以，搞好科创板，不是增加一个交易板块的问题，而是深化改革的重大举措。从一定意义上说，科创板具有多层次资本市场引领者的意味，在科创板上市的企业应当具有行业创新引领者的作用。\n",
    "\n",
    "易会满指出，“定价能力、销售能力是考验一家投行的核心竞争力”。这也是资本市场实现真正市场化的极其重要的因素。会计师事务所、律师事务所等中介机构也要提供公平、公开、专业、客观的服务。为了实现这一目标，就要引入境外成熟的机构，加大国内市场竞争的深度。\n",
    "\n",
    "按照中央要求，要通过深化改革，打造一个规范、透明、开放、有活力、有韧性的资本市场。目前正在推进的科创板和注册制试点，是为了增强资本市场对实体经济的包容性，进一步完善支持创新的资本形成机制，根本目的是推进资本市场市场化改革。待积累经验后，向全市场推广。\n",
    "\n",
    "目前，资本市场已经回暖，这为改革提供了良好市场条件，我们要齐心协力，坚持“严标准、稳起步”的原则，积极做好落实和应对工作，注重各市场之间的平衡，确保改革平稳启动实施。\n",
    "\n",
    "易会满：加强与各方沟通协作 促进市场高质量发展\n",
    "\n",
    "■本报记者 左永刚\n",
    "\n",
    "2月27日下午3时30分，在国务院新闻办公室举行的新闻发布会上，中国证监会主席易会满，副主席李超、方星海，上海证券交易所理事长黄红元，证监会首席律师焦津洪介绍了设立科创板并试点注册制，进一步促进资本市场稳定健康发展的有关情况。\n",
    "\n",
    "易会满表示，习近平总书记在2月22日中央政治局集体学习的重要讲话中，从深化金融供给侧结构性改革的高度对资本市场改革发展进行了进一步谋划。“这是中央对资本市场的殷切希望，是一份沉甸甸的责任要求，也是我们进一步发展资本市场的总纲领。”\n",
    "\n",
    "易会满表示，证监会将以习近平新时代中国特色社会主义思想为指导，在国务院金融委的统一指挥协调下，主动加强与相关部委、地方党委政府和市场各方的沟通协作，努力形成工作合力，共同促进资本市场高质量发展。\n",
    "\n",
    "坚持“四个必须” “一个合力”\n",
    "\n",
    "对于如何贯彻落实中央的要求，如何进一步回应股民的关切，推进资本市场持续健康发展，易会满表示“主要考虑坚持‘四个必须’‘一个合力’”。\n",
    "\n",
    "第一，必须敬畏市场，尊重规律、遵循规律，毫不动摇地推进资本市场健康发展。资本市场是现代金融体系的基础，是实体经济的“晴雨表”，不仅关系工商百业、千家万户，同时也对国家金融实力乃至参与国际金融治理能力等构成影响。\n",
    "\n",
    "第二，必须敬畏法治，坚持依法治市、依法监管，切实保护投资者的合法权益。加强监管，保护投资者合法权益是证监会的天职。证监会将坚持增量和存量并重，把好市场入口和市场出口两道关，加强全程监管，实现市场化优胜劣汰。充分发挥资本市场并购重组主渠道作用，进一步盘活存量、提质增效。切实履行监管职责，坚决打击欺诈发行、大股东违规占用、操纵业绩、操纵并购、操纵市场、内幕交易等违法违规行为。\n",
    "\n",
    "第三，必须敬畏专业，强化战略思维、创新思维，全面深化资本市场改革开放。一是提高宏观思维能力，贴近市场各参与方，坚持市场导向、法治导向、监管导向，加强对资本市场宏观战略问题的研究思考，加强顶层设计，增强战略定力，稳步推进重点关注问题的改革创新，在改革中、在发展中破解难题。当前重点是抓好设立科创板并试点注册制，以此带动资本市场全面深化改革。二是完善资本市场基础制度。统筹推进相关上市板块的综合改革。进一步完善交易制度，优化交易监管改革，让市场有明确预期，让投资者有公平交易的机会。进一步加强协调，打通社保基金、保险、企业年金等各类机构投资者的入市渠道，吸引更多中长期资金入市。三是以开放促改革、促发展。从机构、市场、产品等准入维度，全方位推进资本市场高水平对外开放。四是加强监管队伍专业能力建设。资本市场瞬息万变，新情况、新问题不断涌现，证监会将始终保持“本领恐慌”意识，向实践学习，向市场学习，向投资者学习，大力培养各个层级的专门家，锻造专业能力，弘扬专业精神，努力打造一支政治过硬、作风优良、精通资本市场工作的干部队伍。\n",
    "\n",
    "第四，必须敬畏风险，坚持底线思维、运用科学方法，着力防范化解重大金融风险。防范化解金融风险特别是防止发生系统性金融风险，是金融工作的底线和根本性任务，更是监管工作的底线和根本性任务。\n",
    "\n",
    "易会满表示，“一个合力”就是资本市场改革发展稳定离不开方方面面的支持。证监会将以习近平新时代中国特色社会主义思想为指导，在国务院金融委的统一指挥协调下，主动加强与相关部委、地方党委政府和市场各方的沟通协作，努力形成工作合力，共同促进资本市场高质量发展。\n",
    "\n",
    "科创板不仅是一个“板” 核心在于制度创新和改革\n",
    "\n",
    "易会满表示，设立科创板并试点注册制是党中央国务院交给我们的重大改革任务，对于支持科技创新、推动经济高质量发展、推进资本市场市场化改革和加快上海国际金融中心建设具有重要战略意义。\n",
    "\n",
    "下一步，我们将继续扎实细致做好准备工作，推动这项重大改革有效落实落地。\n",
    "\n",
    "易会满就科创板涉及改革的重点问题作出说明。他表示，第一，设立科创板主要目的是增强资本市场对实体经济的包容性，更好地服务具有核心技术、行业领先、有良好发展前景和口碑的企业，通过改革进一步完善支持创新的资本形成机制。第二，设立科创板是深化资本市场改革的具体举措。这次改革不仅是新设一个板块，更重要的是，坚持市场化、法治化的方向，在发行、交易、信息披露、退市等环节进行制度创新，建立健全以信息披露为中心的股票发行上市制度，发挥科创板改革试验田的作用，形成可复制可推广的经验。第三，设立科创板将坚持“严标准、稳起步”的原则，细化相关制度安排，完善风险应对预案，加强投资者教育，注重各市场之间的平衡，确保科创板并试点注册制平稳启动实施。\n",
    "\n",
    "设立科创板并试点注册制改革，将更好地发挥市场机制作用。易会满表示，要把设立科创板并试点注册制做好，除了证监会和上交所要更好地履行职责，需要各市场参与方能够齐心协力，共同把创新的事情做好。首先发行人要充分地进行信息披露。其次，保荐机构需要在定价、承销等方面提升自身能力，需要券商、投行机构做充分准备。这是最重要的市场化因素。会计师事务所、律师事务所等中介机构也要为市场提供公平、公开、专业、客观的服务。试点注册制需要非常好的外部法律环境，所以需要进一步推进《证券法》等相关法律的修订，进一步提高违法违规成本，保护投资者的合法权益。向市场化推进，还需要建立严格的退市制度。\n",
    "\n",
    "“如果能把上述几个因素解决好，那就能够把金融的软环境、软实力提高到一个新的水平，尤其是市场各相关参与方会出现一个脱胎换骨的变化。希望大家齐心协力把注册制推好，为今后资本市场其他板块的改革积累经验，充分发挥试验田的作用。”易会满强调。\n",
    "\n",
    "依靠市场按市场规律办事 培养健康的资本市场生态体系\n",
    "\n",
    "谈及间接融资市场和直接融资市场的差异，易会满坦言，“银行业和证券业有很大区别，银行业从事的间接融资主要是看现在，资本市场也是一种融资，但更多的是看未来，所以才有估值、倍数、杠杆，以及带来一系列资本市场相应的创新业务。这两个确实从出发点到最后的基本规则是不太一样的。”\n",
    "\n",
    "“对于我来说，到证监会以后需要不断地学习，不断地研究。很多专业的问题，一方面证监会有强大的专业化团队，另一方面资本市场是一个生态体系，这需要依靠市场参与者，调动市场参与者，按市场规律来办事。我们遵循市场规律，实际上就是要高度认识并按照市场规律来办事。一个人能力是非常有限的，还是要靠我们这支专业团队、靠全市场的参与方，才能培养一个健康的资本市场生态体系。生态体系建设好了，资本市场的健康发展才有保证。”易会满最后总结说。\n",
    "易会满落座 侯捷宁摄\n",
    "\n",
    "易会满亮相：我是资本市场的一个新兵\n",
    "\n",
    "■本报记者 苏诗钰\n",
    "\n",
    "2月27日下午3时30分，国务院新闻办公室举行了一场新闻发布会，中国证监会新上任的主席易会满对市场近期的热点问题进行回应。\n",
    "\n",
    "《证券日报》记者走进发布会现场时问了一句“人多吗？”核对名单的两名工作人员异口同声地说：“很多！”\n",
    "\n",
    "据现场国新办工作人员透露，本次发布会报名记者将近百人，相比其他发布会多出很多。当记者走进发布会现场，不禁感叹“嚯！”媒体席早已座无虚席。\n",
    "\n",
    "下午3时30分，易会满和他的小伙伴们走进发布会现场，发布会准时开始。这次发布会是易会满的“首秀”，也是他上任的第31天，换句话说，这位证监会主席上任已“满月”。\n",
    "\n",
    "“很高兴我和我的同事今天下午和大家见面。我到证监会工作刚满一个月，我还是资本市场的一个新兵。”易会满这一番谦逊、随和的开场白，立马拉近了与现场记者的距离。\n",
    "\n",
    "紧接着他说，从市场参与者到监管者，角色转换挑战很大，自己如履薄冰，不敢有丝毫懈怠，唯恐辜负中央的信任和大家对我的期待。当然，大家的期待也是我加强学习、做好工作的动力。\n",
    "\n",
    "这位以“实干”而出名的证监会新主席还真的有点不一样。他的发言一丝不苟，说到自己所接触到的新东西新内容新知识的时候，非常认真。\n",
    "\n",
    "\n",
    "易会满表示，这段时间，自己一方面抓紧熟悉情况，加强调查研究，另一方面，增进部门协作，共同维护资本市场平稳健康发展。\n",
    "\n",
    "说到来证监会一个月的时间里的感触，易会满更是“金句”频频。他表示，主要有三点：第一点感受是对自己来说最需要的是要加强学习。尽管在金融行业、银行工作了35年，从基层到总行，但是相对资本市场来说自己是一个“新兵”，特别是对于当前日新月异的资本市场变化而言，自己很需要对相应的知识进行学习，新的环境需要适应，新的问题需要研究。第二点感受是证监会主席的职位好像是一个“火山口”，因为股市确实牵动着亿万投资者的心。证监会的工作直接面对市场，每一天都在做现场直播，所以不管你愿意不愿意、喜欢不喜欢，这一个月已经感受到了什么叫“火山口”，也感受到了“火山口”的味道。第三点感受是对于自己来说需要保持定力。工作当中需要不忘初心，牢记使命，坚持正确的目标和方向，把握好节奏和力度，一步一个脚印，不浮躁、不急躁，完成好上述各项任务。\n",
    "\n",
    "整场发布会下来，易会满对科创板、注册制等多个问题进行了详细的回答解读，更是在发布会结束后被现场记者团团围住。看到记者们蜂拥而上，易会满并没有着急要走，而是依然坐在发言台上认真地听台下记者们的提问。\n",
    "\n",
    "\"\"\"\n",
    "title = \"易会满首秀“施政理念” 聚焦“市场化”\"\n"
   ]
  },
  {
   "cell_type": "code",
   "execution_count": 153,
   "metadata": {},
   "outputs": [],
   "source": [
    "base_dir = '/Users/himon/Jobs/class/project-class/class1/notes/data/'"
   ]
  },
  {
   "cell_type": "code",
   "execution_count": 188,
   "metadata": {},
   "outputs": [],
   "source": [
    "# 加载stopwords\n",
    "with open(base_dir + 'stopwords.txt', 'r',encoding='utf8') as f:\n",
    "    stopwords = set([w.strip() for w in f])"
   ]
  },
  {
   "cell_type": "code",
   "execution_count": 155,
   "metadata": {},
   "outputs": [],
   "source": [
    "# 分句\n",
    "# 清理非中文字符\n",
    "def split_document(para):\n",
    "    line_split = re.split(r'。|！|；|？|\\n|，', para.strip())\n",
    "    _seg_sents = [re.sub(r'[^\\u4e00-\\u9fa5]+','',sent) for sent in line_split]\n",
    "    _seg_sents = [sent for sent in _seg_sents  if sent != '']\n",
    "    return _seg_sents"
   ]
  },
  {
   "cell_type": "code",
   "execution_count": 156,
   "metadata": {},
   "outputs": [],
   "source": [
    "# 对句子进行分词\n",
    "# 去除stopwords\n",
    "def _seg_sent(sentence):\n",
    "    sentence_depart = jieba.cut(sentence.strip())\n",
    "    word_list = []\n",
    "    for word in sentence_depart:\n",
    "        if word not in stopwords:\n",
    "            word_list.append(word)   \n",
    "    return word_list"
   ]
  },
  {
   "cell_type": "code",
   "execution_count": 190,
   "metadata": {},
   "outputs": [],
   "source": [
    "\"\"\"第一步: 分句+分词+基础数据预处理\"\"\" \n",
    "sentences = split_document(content)\n",
    "tmp_all_sentences_words = [_seg_sent(sen) for sen in sentences]\n",
    "all_sentences_words = [words for words in tmp_all_sentences_words if len(words) ]\n",
    "all_sentences = [''.join(words) for words in all_sentences_words]"
   ]
  },
  {
   "cell_type": "code",
   "execution_count": 158,
   "metadata": {},
   "outputs": [],
   "source": [
    "\"\"\"第二步: 加载词向量(已经筛选好的)\"\"\"\n",
    "word_embeddings = {}\n",
    "with open(resource_dir + 'local_vocab.txt', 'r', encoding='utf-8') as f:\n",
    "    for line in f:\n",
    "        values = line.split()\n",
    "        word = values[0]\n",
    "        embedding = np.asarray(values[1:], dtype='float32')\n",
    "        word_embeddings[word] = embedding"
   ]
  },
  {
   "cell_type": "code",
   "execution_count": 159,
   "metadata": {},
   "outputs": [],
   "source": [
    "# 第一次运行；筛选全部词向量\"\"\"\n",
    "# word_embeddings = {}\n",
    "# with open('/Users/himon/Jobs/class/project-class/class1/resource/sgns.financial.word', encoding='utf-8') as f:\n",
    "#     next(f)\n",
    "#     for line in f:\n",
    "#         values = line.split()\n",
    "#         # 第一个元素是词语\n",
    "#         if values[0] not in all_vocab:\n",
    "#             continue\n",
    "#         word = values[0]\n",
    "#         embedding = np.asarray(values[1:], dtype='float32')\n",
    "#         word_embeddings[word] = embedding\n",
    "            \n",
    "# print(\"一共有\"+str(len(word_embeddings))+\"个词语/字。\")"
   ]
  },
  {
   "cell_type": "code",
   "execution_count": null,
   "metadata": {},
   "outputs": [],
   "source": []
  },
  {
   "cell_type": "code",
   "execution_count": 191,
   "metadata": {},
   "outputs": [],
   "source": [
    "\"\"\"第三步：得到词语的embedding，用WordAVG作为句子的向量表示\"\"\"\n",
    "sentence_vectors = []\n",
    "for words in all_sentences_words:\n",
    "    if len(words)!=0:\n",
    "        v = sum([word_embeddings.get(w, np.zeros((300,))) for w in words])/(len(words))\n",
    "    else:\n",
    "        v = np.zeros((300,))\n",
    "    sentence_vectors.append(v)"
   ]
  },
  {
   "cell_type": "code",
   "execution_count": 192,
   "metadata": {},
   "outputs": [
    {
     "data": {
      "text/plain": [
       "331"
      ]
     },
     "execution_count": 192,
     "metadata": {},
     "output_type": "execute_result"
    }
   ],
   "source": [
    "len(sentence_vectors)"
   ]
  },
  {
   "cell_type": "code",
   "execution_count": 193,
   "metadata": {},
   "outputs": [
    {
     "data": {
      "text/plain": [
       "331"
      ]
     },
     "execution_count": 193,
     "metadata": {},
     "output_type": "execute_result"
    }
   ],
   "source": [
    "len(all_sentences_words)"
   ]
  },
  {
   "cell_type": "code",
   "execution_count": 170,
   "metadata": {},
   "outputs": [
    {
     "name": "stdout",
     "output_type": "stream",
     "text": [
      "句子相似度矩阵的形状为： (331, 331)\n"
     ]
    }
   ],
   "source": [
    "\"\"\"第四步：计算句子之间的余弦相似度，构成相似度矩阵\"\"\"\n",
    "sim_mat = np.zeros([len(all_sentences_words), len(all_sentences_words)])\n",
    "\n",
    "from sklearn.metrics.pairwise import cosine_similarity\n",
    "\n",
    "for i in range(len(all_sentences_words)):\n",
    "    for j in range(len(all_sentences_words)):\n",
    "        if i != j:\n",
    "            sim_mat[i][j] = cosine_similarity(sentence_vectors[i].reshape(1,300), sentence_vectors[j].reshape(1,300))[0,0]\n",
    "print(\"句子相似度矩阵的形状为：\",sim_mat.shape)"
   ]
  },
  {
   "cell_type": "code",
   "execution_count": 171,
   "metadata": {},
   "outputs": [],
   "source": [
    "# res = cosine_similarity(x, y)\n",
    "# x: [n_samples_X, n_features]\n",
    "# y: [n_samples_Y, n_features]\n",
    "# res: [n_samples_X, n_samples_Y]\n",
    "\n",
    "# 这里，结果是cosine_similarity()[0, 0]取出来sim_mat[i][j]的cos距离标量"
   ]
  },
  {
   "cell_type": "code",
   "execution_count": 194,
   "metadata": {},
   "outputs": [
    {
     "data": {
      "text/plain": [
       "0.28039255057631635"
      ]
     },
     "execution_count": 194,
     "metadata": {},
     "output_type": "execute_result"
    }
   ],
   "source": [
    " cosine_similarity(sentence_vectors[0].reshape(1,300), sentence_vectors[1].reshape(1,300))[0, 0]"
   ]
  },
  {
   "cell_type": "code",
   "execution_count": null,
   "metadata": {},
   "outputs": [],
   "source": []
  },
  {
   "cell_type": "code",
   "execution_count": 186,
   "metadata": {},
   "outputs": [],
   "source": [
    "\"\"\"第五步：迭代得到句子的textrank值，排序并取出摘要\"\"\"\n",
    "import networkx as nx\n",
    "\n",
    "# 利用句子相似度矩阵构建图结构，句子为节点，句子相似度为转移概率\n",
    "nx_graph = nx.from_numpy_array(sim_mat)\n",
    "\n",
    "# 得到所有句子的textrank值， shape：[378]\n",
    "# 默认，阻尼系数alpha=0.85， max_iter=100，tol=1e-6,\n",
    "# 有两种停止方式：1.max_iter， 2.tol，用于指定前后两次迭代的结果差值应小于tol，以达到最终收敛的效果时才停止计算，返回图结果\n",
    "scores = nx.pagerank(nx_graph, alpha=0.85, max_iter=100, tol=1e-6)"
   ]
  },
  {
   "cell_type": "code",
   "execution_count": 187,
   "metadata": {
    "collapsed": true
   },
   "outputs": [
    {
     "data": {
      "text/plain": [
       "NodeView((0, 1, 2, 3, 4, 5, 6, 7, 8, 9, 10, 11, 12, 13, 14, 15, 16, 17, 18, 19, 20, 21, 22, 23, 24, 25, 26, 27, 28, 29, 30, 31, 32, 33, 34, 35, 36, 37, 38, 39, 40, 41, 42, 43, 44, 45, 46, 47, 48, 49, 50, 51, 52, 53, 54, 55, 56, 57, 58, 59, 60, 61, 62, 63, 64, 65, 66, 67, 68, 69, 70, 71, 72, 73, 74, 75, 76, 77, 78, 79, 80, 81, 82, 83, 84, 85, 86, 87, 88, 89, 90, 91, 92, 93, 94, 95, 96, 97, 98, 99, 100, 101, 102, 103, 104, 105, 106, 107, 108, 109, 110, 111, 112, 113, 114, 115, 116, 117, 118, 119, 120, 121, 122, 123, 124, 125, 126, 127, 128, 129, 130, 131, 132, 133, 134, 135, 136, 137, 138, 139, 140, 141, 142, 143, 144, 145, 146, 147, 148, 149, 150, 151, 152, 153, 154, 155, 156, 157, 158, 159, 160, 161, 162, 163, 164, 165, 166, 167, 168, 169, 170, 171, 172, 173, 174, 175, 176, 177, 178, 179, 180, 181, 182, 183, 184, 185, 186, 187, 188, 189, 190, 191, 192, 193, 194, 195, 196, 197, 198, 199, 200, 201, 202, 203, 204, 205, 206, 207, 208, 209, 210, 211, 212, 213, 214, 215, 216, 217, 218, 219, 220, 221, 222, 223, 224, 225, 226, 227, 228, 229, 230, 231, 232, 233, 234, 235, 236, 237, 238, 239, 240, 241, 242, 243, 244, 245, 246, 247, 248, 249, 250, 251, 252, 253, 254, 255, 256, 257, 258, 259, 260, 261, 262, 263, 264, 265, 266, 267, 268, 269, 270, 271, 272, 273, 274, 275, 276, 277, 278, 279, 280, 281, 282, 283, 284, 285, 286, 287, 288, 289, 290, 291, 292, 293, 294, 295, 296, 297, 298, 299, 300, 301, 302, 303, 304, 305, 306, 307, 308, 309, 310, 311, 312, 313, 314, 315, 316, 317, 318, 319, 320, 321, 322, 323, 324, 325, 326, 327, 328, 329, 330))"
      ]
     },
     "execution_count": 187,
     "metadata": {},
     "output_type": "execute_result"
    }
   ],
   "source": [
    "nx_graph.nodes"
   ]
  },
  {
   "cell_type": "code",
   "execution_count": 177,
   "metadata": {},
   "outputs": [],
   "source": [
    "# <score, sentence>\n",
    "sent_scores_dict = [(scores[i],s) for i,s in enumerate(all_sentences)]"
   ]
  },
  {
   "cell_type": "code",
   "execution_count": 178,
   "metadata": {},
   "outputs": [],
   "source": [
    "# 根据textrank值对句子进行排序\n",
    "ranked_sentences = sorted(sent_scores_dict, reverse=True)"
   ]
  },
  {
   "cell_type": "code",
   "execution_count": 195,
   "metadata": {},
   "outputs": [
    {
     "name": "stdout",
     "output_type": "stream",
     "text": [
      "选择前10条摘要：\n",
      "合力指资本市场改革发展稳定离不开方方面面支持\n",
      "合力资本市场改革发展稳定离不开方方面面支持\n",
      "支持科技创新推动经济高质量发展推进资本市场市场化改革加快上海国际金融中心建设战略意义\n",
      "市场市场规律办事培养健康资本市场生态体系\n",
      "易会各方沟通协作市场高质量发展\n",
      "深化金融供给侧结构性改革高度资本市场改革发展进一步谋划\n",
      "毫不动摇推进资本市场健康发展\n",
      "设立科创板深化资本市场改革举措\n",
      "改革进一步完善支持创新资本机制\n",
      "目的推进资本市场市场化改革\n"
     ]
    }
   ],
   "source": [
    "# 取出得分最高的前10个句子作为摘要\n",
    "sn = 10\n",
    "print('选择前%d条摘要：'%sn)\n",
    "for i in range(sn):\n",
    "    print(ranked_sentences[i][1])"
   ]
  },
  {
   "cell_type": "markdown",
   "metadata": {},
   "source": [
    "---\n",
    "---\n",
    "# 问题： 长的句子天生带有更多信息量，所有与其他句子之间权重会更大。"
   ]
  },
  {
   "cell_type": "code",
   "execution_count": 180,
   "metadata": {},
   "outputs": [],
   "source": [
    "# 惩罚过行的句子：用相似度/句子长度"
   ]
  },
  {
   "cell_type": "code",
   "execution_count": 181,
   "metadata": {},
   "outputs": [
    {
     "name": "stdout",
     "output_type": "stream",
     "text": [
      "句子相似度矩阵的形状为： (331, 331)\n"
     ]
    }
   ],
   "source": [
    "sim_mat_norm = np.zeros([len(all_sentences_words), len(all_sentences_words)])\n",
    "\n",
    "for i in range(len(all_sentences_words)):\n",
    "    for j in range(len(all_sentences_words)):\n",
    "        if i != j:\n",
    "            _len = len(all_sentences_words[i])\n",
    "            sim_mat[i][j] = cosine_similarity(sentence_vectors[i].reshape(1,300), sentence_vectors[j].reshape(1,300))[0,0]/_len\n",
    "print(\"句子相似度矩阵的形状为：\",sim_mat.shape)\n"
   ]
  },
  {
   "cell_type": "code",
   "execution_count": 182,
   "metadata": {},
   "outputs": [],
   "source": [
    "nx_graph_norm = nx.from_numpy_array(sim_mat_norm)\n",
    "scores_norm = nx.pagerank(nx_graph_norm)"
   ]
  },
  {
   "cell_type": "code",
   "execution_count": 183,
   "metadata": {},
   "outputs": [],
   "source": [
    "ranked_sentences2 = sorted(((scores_norm[i],s) for i,s in enumerate(all_sentences)), reverse=True)"
   ]
  },
  {
   "cell_type": "code",
   "execution_count": 184,
   "metadata": {},
   "outputs": [
    {
     "name": "stdout",
     "output_type": "stream",
     "text": [
      "选择前10条摘要：\n",
      "齐心协力\n",
      "黄红元交易所配套制度技术储备企业情况介绍\n",
      "顶层设计\n",
      "防范化解金融风险特别发生系统性金融风险\n",
      "锻造专业能力\n",
      "银行业间接融资\n",
      "银行业证券业很大区别\n",
      "金融软环境软实力提高新水平\n",
      "金融行业银行工作\n",
      "金融工作底线根本性\n"
     ]
    }
   ],
   "source": [
    "sn = 10\n",
    "print('选择前%d条摘要：'%sn)\n",
    "for i in range(sn):\n",
    "    print(ranked_sentences2[i][1])"
   ]
  },
  {
   "cell_type": "code",
   "execution_count": null,
   "metadata": {},
   "outputs": [],
   "source": []
  }
 ],
 "metadata": {
  "kernelspec": {
   "display_name": "Python 3",
   "language": "python",
   "name": "python3"
  },
  "language_info": {
   "codemirror_mode": {
    "name": "ipython",
    "version": 3
   },
   "file_extension": ".py",
   "mimetype": "text/x-python",
   "name": "python",
   "nbconvert_exporter": "python",
   "pygments_lexer": "ipython3",
   "version": "3.6.2"
  }
 },
 "nbformat": 4,
 "nbformat_minor": 2
}
